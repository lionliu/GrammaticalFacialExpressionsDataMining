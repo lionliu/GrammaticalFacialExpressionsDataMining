{
 "nbformat": 4,
 "nbformat_minor": 2,
 "metadata": {
  "language_info": {
   "name": "python",
   "codemirror_mode": {
    "name": "ipython",
    "version": 3
   },
   "version": "3.7.4"
  },
  "orig_nbformat": 2,
  "file_extension": ".py",
  "mimetype": "text/x-python",
  "name": "python",
  "npconvert_exporter": "python",
  "pygments_lexer": "ipython3",
  "version": 3
 },
 "cells": [
  {
   "cell_type": "code",
   "execution_count": 1,
   "metadata": {},
   "outputs": [],
   "source": [
    "import pandas as pd\n",
    "from sklearn.model_selection import train_test_split, cross_val_predict\n",
    "from sklearn.neural_network import MLPClassifier\n",
    "from sklearn.metrics import roc_auc_score\n",
    "import matplotlib.pyplot as plt\n",
    "from sklearn.utils.validation import column_or_1d\n",
    "from warnings import simplefilter\n",
    "from sklearn.exceptions import ConvergenceWarning\n",
    "simplefilter(\"ignore\", category=ConvergenceWarning)"
   ]
  },
  {
   "cell_type": "code",
   "execution_count": 2,
   "metadata": {},
   "outputs": [],
   "source": [
    "datasets = [\"a_affirmative\", \"a_conditional\", \"a_doubt_question\", \"a_emphasis\", \"a_negative\", \"a_relative\", \"a_topics\", \"a_wh_question\", \"a_yn_question\",\n",
    "         \"b_affirmative\", \"b_conditional\", \"b_doubt_question\", \"b_emphasis\", \"b_negative\", \"b_relative\", \"b_topics\", \"b_wh_question\", \"b_yn_question\"]\n",
    "\n",
    "\n",
    "activation = [\"logistic\", \"tanh\", \"relu\"]\n",
    "solver = [\"sgd\", \"adam\"]\n",
    "# layers = [(10, 10), (20, 20), (30, 30)]\n",
    "layers =[(30, 30)]\n",
    "alpha = [0.0001, 0.0003, 0.001, 0.003, 0.01]\n",
    "learning_rate_init = [0.001, 0.003, 0.01, 0.03]"
   ]
  },
  {
   "cell_type": "code",
   "execution_count": 4,
   "metadata": {},
   "outputs": [],
   "source": [
    "bestsParams = {}\n",
    "\n",
    "\n",
    "for data in datasets:\n",
    "    X_train = pd.read_csv(\"./SplitData/\" + data + \"_X_train.csv\")\n",
    "    X_test = pd.read_csv(\"./SplitData/\" + data + \"_X_test.csv\")\n",
    "    y_train = pd.read_csv(\"./SplitData/\" + data + \"_y_train.csv\")\n",
    "    y_train = column_or_1d(y_train, warn=False)\n",
    "    y_test = pd.read_csv(\"./SplitData/\" + data + \"_y_test.csv\")\n",
    "    y_test = column_or_1d(y_test, warn=False)\n",
    "    bestRocAucScore = 0\n",
    "    for a in alpha:\n",
    "        for lri in learning_rate_init:\n",
    "            mlp = MLPClassifier(random_state=42, hidden_layer_sizes=(30, 30, 30), max_iter=50, activation=\"relu\", solver=\"adam\", alpha=a, learning_rate_init=lri)\n",
    "            y_train_proba = cross_val_predict(mlp, X_train, y_train, cv=10, method=\"predict_proba\")\n",
    "            y_scores = y_train_proba[:, 1]\n",
    "            score = roc_auc_score(y_train, y_scores)\n",
    "            if(score > bestRocAucScore):\n",
    "                bestsParams[data] = {\n",
    "                    \"alpha\": a,\n",
    "                    \"learning_rate_init\": lri,\n",
    "                    \"RocAucScore\": score\n",
    "                }\n",
    "                bestRocAucScore = score\n",
    "                    "
   ]
  },
  {
   "cell_type": "code",
   "execution_count": 5,
   "metadata": {},
   "outputs": [
    {
     "name": "stdout",
     "output_type": "stream",
     "text": "a_affirmative  : {'alpha': 0.01, 'learning_rate_init': 0.001, 'RocAucScore': 0.6707128099173553}\na_conditional  : {'alpha': 0.0001, 'learning_rate_init': 0.001, 'RocAucScore': 0.9008955309287199}\na_doubt_question  : {'alpha': 0.01, 'learning_rate_init': 0.001, 'RocAucScore': 0.8716886548152294}\na_emphasis  : {'alpha': 0.003, 'learning_rate_init': 0.003, 'RocAucScore': 0.6775686154474032}\na_negative  : {'alpha': 0.001, 'learning_rate_init': 0.001, 'RocAucScore': 0.6369907830462201}\na_relative  : {'alpha': 0.001, 'learning_rate_init': 0.003, 'RocAucScore': 0.8694264172552014}\na_topics  : {'alpha': 0.01, 'learning_rate_init': 0.01, 'RocAucScore': 0.7813671076538724}\na_wh_question  : {'alpha': 0.01, 'learning_rate_init': 0.001, 'RocAucScore': 0.7247282608695651}\na_yn_question  : {'alpha': 0.001, 'learning_rate_init': 0.003, 'RocAucScore': 0.8674487082066871}\nb_affirmative  : {'alpha': 0.001, 'learning_rate_init': 0.003, 'RocAucScore': 0.6021795665634676}\nb_conditional  : {'alpha': 0.0001, 'learning_rate_init': 0.001, 'RocAucScore': 0.6692768397578848}\nb_doubt_question  : {'alpha': 0.01, 'learning_rate_init': 0.003, 'RocAucScore': 0.7455791363242859}\nb_emphasis  : {'alpha': 0.003, 'learning_rate_init': 0.01, 'RocAucScore': 0.768807541356417}\nb_negative  : {'alpha': 0.003, 'learning_rate_init': 0.01, 'RocAucScore': 0.7529255906381099}\nb_relative  : {'alpha': 0.001, 'learning_rate_init': 0.01, 'RocAucScore': 0.6786704877173586}\nb_topics  : {'alpha': 0.003, 'learning_rate_init': 0.01, 'RocAucScore': 0.8481867131205953}\nb_wh_question  : {'alpha': 0.0001, 'learning_rate_init': 0.01, 'RocAucScore': 0.872823148661088}\nb_yn_question  : {'alpha': 0.003, 'learning_rate_init': 0.003, 'RocAucScore': 0.719996476650469}\n"
    }
   ],
   "source": [
    "for i in bestsParams:\n",
    "    print(i, \" :\", bestsParams[i])\n"
   ]
  },
  {
   "cell_type": "code",
   "execution_count": null,
   "metadata": {},
   "outputs": [],
   "source": []
  }
 ]
}