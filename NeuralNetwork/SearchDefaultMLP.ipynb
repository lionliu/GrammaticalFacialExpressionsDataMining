{
 "nbformat": 4,
 "nbformat_minor": 2,
 "metadata": {
  "language_info": {
   "name": "python",
   "codemirror_mode": {
    "name": "ipython",
    "version": 3
   },
   "version": "3.7.4"
  },
  "orig_nbformat": 2,
  "file_extension": ".py",
  "mimetype": "text/x-python",
  "name": "python",
  "npconvert_exporter": "python",
  "pygments_lexer": "ipython3",
  "version": 3
 },
 "cells": [
  {
   "cell_type": "code",
   "execution_count": 1,
   "metadata": {},
   "outputs": [],
   "source": [
    "import pandas as pd\n",
    "from sklearn.model_selection import train_test_split, cross_val_predict\n",
    "from sklearn.neural_network import MLPClassifier\n",
    "from sklearn.metrics import roc_auc_score\n",
    "import matplotlib.pyplot as plt\n",
    "from sklearn.utils.validation import column_or_1d\n",
    "from warnings import simplefilter\n",
    "from sklearn.exceptions import ConvergenceWarning\n",
    "simplefilter(\"ignore\", category=ConvergenceWarning)"
   ]
  },
  {
   "cell_type": "code",
   "execution_count": 2,
   "metadata": {},
   "outputs": [],
   "source": [
    "datasets = [\"a_affirmative\", \"a_conditional\", \"a_doubt_question\", \"a_emphasis\", \"a_negative\", \"a_relative\", \"a_topics\", \"a_wh_question\", \"a_yn_question\",\n",
    "         \"b_affirmative\", \"b_conditional\", \"b_doubt_question\", \"b_emphasis\", \"b_negative\", \"b_relative\", \"b_topics\", \"b_wh_question\", \"b_yn_question\"]\n",
    "\n",
    "\n",
    "activation = [\"logistic\", \"tanh\", \"relu\"]\n",
    "solver = [\"sgd\", \"adam\"]\n",
    "# layers = [(10, 10), (20, 20), (30, 30)]\n",
    "layers =[(30, 30)]\n",
    "alpha = [0.0001, 0.0003, 0.001, 0.003, 0.01]\n",
    "learning_rate_init = [0.001, 0.003, 0.01, 0.03]"
   ]
  },
  {
   "cell_type": "code",
   "execution_count": 3,
   "metadata": {},
   "outputs": [
    {
     "ename": "NameError",
     "evalue": "name 'lay' is not defined",
     "output_type": "error",
     "traceback": [
      "\u001b[0;31m---------------------------------------------------------------------------\u001b[0m",
      "\u001b[0;31mNameError\u001b[0m                                 Traceback (most recent call last)",
      "\u001b[0;32m<ipython-input-3-c8de2c2bd0a8>\u001b[0m in \u001b[0;36m<module>\u001b[0;34m\u001b[0m\n\u001b[1;32m     12\u001b[0m     \u001b[0;32mfor\u001b[0m \u001b[0ma\u001b[0m \u001b[0;32min\u001b[0m \u001b[0malpha\u001b[0m\u001b[0;34m:\u001b[0m\u001b[0;34m\u001b[0m\u001b[0;34m\u001b[0m\u001b[0m\n\u001b[1;32m     13\u001b[0m         \u001b[0;32mfor\u001b[0m \u001b[0mlri\u001b[0m \u001b[0;32min\u001b[0m \u001b[0mlearning_rate_init\u001b[0m\u001b[0;34m:\u001b[0m\u001b[0;34m\u001b[0m\u001b[0;34m\u001b[0m\u001b[0m\n\u001b[0;32m---> 14\u001b[0;31m             \u001b[0mmlp\u001b[0m \u001b[0;34m=\u001b[0m \u001b[0mMLPClassifier\u001b[0m\u001b[0;34m(\u001b[0m\u001b[0mrandom_state\u001b[0m\u001b[0;34m=\u001b[0m\u001b[0;36m42\u001b[0m\u001b[0;34m,\u001b[0m \u001b[0mhidden_layer_sizes\u001b[0m\u001b[0;34m=\u001b[0m\u001b[0mlay\u001b[0m\u001b[0;34m,\u001b[0m \u001b[0mmax_iter\u001b[0m\u001b[0;34m=\u001b[0m\u001b[0;36m50\u001b[0m\u001b[0;34m,\u001b[0m \u001b[0mactivation\u001b[0m\u001b[0;34m=\u001b[0m\u001b[0;34m\"relu\"\u001b[0m\u001b[0;34m,\u001b[0m \u001b[0msolver\u001b[0m\u001b[0;34m=\u001b[0m\u001b[0;34m\"adam\"\u001b[0m\u001b[0;34m,\u001b[0m \u001b[0malpha\u001b[0m\u001b[0;34m=\u001b[0m\u001b[0ma\u001b[0m\u001b[0;34m,\u001b[0m \u001b[0mlearning_rate_init\u001b[0m\u001b[0;34m=\u001b[0m\u001b[0mlri\u001b[0m\u001b[0;34m)\u001b[0m\u001b[0;34m\u001b[0m\u001b[0;34m\u001b[0m\u001b[0m\n\u001b[0m\u001b[1;32m     15\u001b[0m             \u001b[0my_train_proba\u001b[0m \u001b[0;34m=\u001b[0m \u001b[0mcross_val_predict\u001b[0m\u001b[0;34m(\u001b[0m\u001b[0mmlp\u001b[0m\u001b[0;34m,\u001b[0m \u001b[0mX_train\u001b[0m\u001b[0;34m,\u001b[0m \u001b[0my_train\u001b[0m\u001b[0;34m,\u001b[0m \u001b[0mcv\u001b[0m\u001b[0;34m=\u001b[0m\u001b[0;36m10\u001b[0m\u001b[0;34m,\u001b[0m \u001b[0mmethod\u001b[0m\u001b[0;34m=\u001b[0m\u001b[0;34m\"predict_proba\"\u001b[0m\u001b[0;34m)\u001b[0m\u001b[0;34m\u001b[0m\u001b[0;34m\u001b[0m\u001b[0m\n\u001b[1;32m     16\u001b[0m             \u001b[0my_scores\u001b[0m \u001b[0;34m=\u001b[0m \u001b[0my_train_proba\u001b[0m\u001b[0;34m[\u001b[0m\u001b[0;34m:\u001b[0m\u001b[0;34m,\u001b[0m \u001b[0;36m1\u001b[0m\u001b[0;34m]\u001b[0m\u001b[0;34m\u001b[0m\u001b[0;34m\u001b[0m\u001b[0m\n",
      "\u001b[0;31mNameError\u001b[0m: name 'lay' is not defined"
     ]
    }
   ],
   "source": [
    "bestsParams = {}\n",
    "\n",
    "\n",
    "for data in datasets:\n",
    "    X_train = pd.read_csv(\"./SplitData/\" + data + \"_X_train.csv\")\n",
    "    X_test = pd.read_csv(\"./SplitData/\" + data + \"_X_test.csv\")\n",
    "    y_train = pd.read_csv(\"./SplitData/\" + data + \"_y_train.csv\")\n",
    "    y_train = column_or_1d(y_train, warn=False)\n",
    "    y_test = pd.read_csv(\"./SplitData/\" + data + \"_y_test.csv\")\n",
    "    y_test = column_or_1d(y_test, warn=False)\n",
    "    bestRocAucScore = 0\n",
    "    for a in alpha:\n",
    "        for lri in learning_rate_init:\n",
    "            mlp = MLPClassifier(random_state=42, hidden_layer_sizes=(30, 30, 30), max_iter=50, activation=\"relu\", solver=\"adam\", alpha=a, learning_rate_init=lri)\n",
    "            y_train_proba = cross_val_predict(mlp, X_train, y_train, cv=10, method=\"predict_proba\")\n",
    "            y_scores = y_train_proba[:, 1]\n",
    "            score = roc_auc_score(y_train, y_scores)\n",
    "            if(score > bestRocAucScore):\n",
    "                bestsParams[data] = {\n",
    "                    \"alpha\": a,\n",
    "                    \"learning_rate_init\": lri,\n",
    "                    \"RocAucScore\": score\n",
    "                }\n",
    "                bestRocAucScore = score\n",
    "                    "
   ]
  },
  {
   "cell_type": "code",
   "execution_count": 4,
   "metadata": {},
   "outputs": [
    {
     "name": "stdout",
     "output_type": "stream",
     "text": "{'a_affirmative': {'layers': (30, 30), 'alpha': 0.0001, 'learning_rate_init': 0.01, 'RocAucScore': 0.6660299182092121}, 'a_conditional': {'layers': (30, 30), 'alpha': 0.0001, 'learning_rate_init': 0.01, 'RocAucScore': 0.7048992923244419}, 'a_doubt_question': {'layers': (30, 30), 'alpha': 0.0001, 'learning_rate_init': 0.01, 'RocAucScore': 0.6671779141104295}, 'a_emphasis': {'layers': (30, 30), 'alpha': 0.0001, 'learning_rate_init': 0.01, 'RocAucScore': 0.5959464566013604}, 'a_negative': {'layers': (30, 30), 'alpha': 0.0003, 'learning_rate_init': 0.01, 'RocAucScore': 0.6435605418483872}, 'a_relative': {'layers': (30, 30), 'alpha': 0.0003, 'learning_rate_init': 0.01, 'RocAucScore': 0.733419072071612}, 'a_topics': {'layers': (30, 30), 'alpha': 0.0003, 'learning_rate_init': 0.01, 'RocAucScore': 0.6861984540917788}, 'a_wh_question': {'layers': (30, 30), 'alpha': 0.0003, 'learning_rate_init': 0.01, 'RocAucScore': 0.6716279069767442}, 'a_yn_question': {'layers': (30, 30), 'alpha': 0.0001, 'learning_rate_init': 0.003, 'RocAucScore': 0.6208008460517584}, 'b_affirmative': {'layers': (30, 30), 'alpha': 0.01, 'learning_rate_init': 0.01, 'RocAucScore': 0.6993871252204585}, 'b_conditional': {'layers': (30, 30), 'alpha': 0.003, 'learning_rate_init': 0.01, 'RocAucScore': 0.7525900843988479}, 'b_doubt_question': {'layers': (30, 30), 'alpha': 0.001, 'learning_rate_init': 0.01, 'RocAucScore': 0.7546060911150263}, 'b_emphasis': {'layers': (30, 30), 'alpha': 0.001, 'learning_rate_init': 0.01, 'RocAucScore': 0.7730287056033756}, 'b_negative': {'layers': (30, 30), 'alpha': 0.003, 'learning_rate_init': 0.01, 'RocAucScore': 0.6881820557284367}, 'b_relative': {'layers': (30, 30), 'alpha': 0.003, 'learning_rate_init': 0.01, 'RocAucScore': 0.7886364491254465}, 'b_topics': {'layers': (30, 30), 'alpha': 0.01, 'learning_rate_init': 0.01, 'RocAucScore': 0.700647765850078}, 'b_wh_question': {'layers': (30, 30), 'alpha': 0.0001, 'learning_rate_init': 0.01, 'RocAucScore': 0.8271540151330241}, 'b_yn_question': {'layers': (30, 30), 'alpha': 0.003, 'learning_rate_init': 0.01, 'RocAucScore': 0.7787390115544056}}\n"
    }
   ],
   "source": [
    "for i in bestsParams:\n",
    "    print(i, \" :\", bestsParams[i])\n"
   ]
  }
 ]
}