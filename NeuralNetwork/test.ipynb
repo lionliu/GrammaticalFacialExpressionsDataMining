{
 "nbformat": 4,
 "nbformat_minor": 2,
 "metadata": {
  "language_info": {
   "name": "python",
   "codemirror_mode": {
    "name": "ipython",
    "version": 3
   }
  },
  "orig_nbformat": 2,
  "file_extension": ".py",
  "mimetype": "text/x-python",
  "name": "python",
  "npconvert_exporter": "python",
  "pygments_lexer": "ipython3",
  "version": 3
 },
 "cells": [
  {
   "cell_type": "code",
   "execution_count": null,
   "metadata": {},
   "outputs": [],
   "source": [
    "import pandas as pd\n",
    "from sklearn.model_selection import train_test_split, cross_val_predict, cross_val_score\n",
    "from sklearn.neural_network import MLPClassifier\n",
    "from sklearn.metrics import roc_auc_score, roc_curve\n",
    "from sklearn.ensemble import RandomForestClassifier\n",
    "import matplotlib.pyplot as plt\n",
    "\n"
   ]
  },
  {
   "cell_type": "code",
   "execution_count": null,
   "metadata": {},
   "outputs": [],
   "source": [
    "X_train = pd.read_csv(\"../SplitPreprocessedData/\" + \"b_wh_question\" + \"_X_train.csv\")\n",
    "X_test = pd.read_csv(\"../SplitPreprocessedData/\" + \"b_wh_question\" + \"_X_test.csv\")\n",
    "y_train = pd.read_csv(\"../SplitPreprocessedData/\" + \"b_wh_question\" + \"_y_train.csv\")\n",
    "y_test = pd.read_csv(\"../SplitPreprocessedData/\" + \"b_wh_question\" + \"_y_test.csv\")"
   ]
  }
 ]
}