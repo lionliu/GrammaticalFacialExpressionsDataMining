{
 "nbformat": 4,
 "nbformat_minor": 2,
 "metadata": {
  "language_info": {
   "name": "python",
   "codemirror_mode": {
    "name": "ipython",
    "version": 3
   },
   "version": "3.7.3"
  },
  "orig_nbformat": 2,
  "file_extension": ".py",
  "mimetype": "text/x-python",
  "name": "python",
  "npconvert_exporter": "python",
  "pygments_lexer": "ipython3",
  "version": 3
 },
 "cells": [
  {
   "cell_type": "code",
   "execution_count": 11,
   "metadata": {},
   "outputs": [],
   "source": [
    "import pandas as pd\n",
    "from sklearn.model_selection import train_test_split, cross_val_predict\n",
    "from sklearn.neural_network import MLPClassifier\n",
    "from sklearn.ensemble import BaggingClassifier\n",
    "from sklearn.metrics import accuracy_score\n",
    "from sklearn.utils.validation import column_or_1d\n",
    "from time import perf_counter\n",
    "from warnings import simplefilter\n",
    "from sklearn.exceptions import ConvergenceWarning, DataConversionWarning\n",
    "simplefilter(\"ignore\", category=ConvergenceWarning)\n",
    "simplefilter(\"ignore\", category=DataConversionWarning)"
   ]
  },
  {
   "cell_type": "code",
   "execution_count": 6,
   "metadata": {},
   "outputs": [],
   "source": [
    "datasets = [\"a_affirmative\", \"a_conditional\", \"a_doubt_question\", \"a_emphasis\", \"a_negative\", \"a_relative\", \"a_topics\", \"a_wh_question\", \"a_yn_question\",\n",
    "         \"b_affirmative\", \"b_conditional\", \"b_doubt_question\", \"b_emphasis\", \"b_negative\", \"b_relative\", \"b_topics\", \"b_wh_question\", \"b_yn_question\"]\n",
    "\n",
    "alphas = {\"a_affirmative\": 0.0001, \"a_conditional\": 0.0001, \"a_doubt_question\": 0.0001, \"a_emphasis\": 0.0001, \"a_negative\": 0.0003, \"a_relative\": 0.0003, \"a_topics\": 0.0003, \"a_wh_question\": 0.0003, \"a_yn_question\": 0.0001,\n",
    "         \"b_affirmative\": 0.01, \"b_conditional\": 0.01, \"b_doubt_question\": 0.001, \"b_emphasis\": 0.001, \"b_negative\": 0.003, \"b_relative\": 0.003, \"b_topics\": 0.01, \"b_wh_question\": 0.0001, \"b_yn_question\": 0.003}\n",
    "\n",
    "lr = {\"a_affirmative\": 0.01, \"a_conditional\": 0.01, \"a_doubt_question\": 0.01, \"a_emphasis\": 0.01, \"a_negative\": 0.01, \"a_relative\": 0.01, \"a_topics\": 0.01, \"a_wh_question\": 0.01, \"a_yn_question\": 0.003,\n",
    "         \"b_affirmative\": 0.01, \"b_conditional\": 0.01, \"b_doubt_question\": 0.01, \"b_emphasis\": 0.01, \"b_negative\": 0.01, \"b_relative\": 0.01, \"b_topics\": 0.01, \"b_wh_question\": 0.01, \"b_yn_question\": 0.01}\n",
    "\n",
    "estimators = {\"a_affirmative\": 100, \"a_conditional\": 25, \"a_doubt_question\": 100, \"a_emphasis\": 100, \"a_negative\": 100, \"a_relative\": 50, \"a_topics\": 50, \"a_wh_question\": 10, \"a_yn_question\": 25,\n",
    "         \"b_affirmative\": 25, \"b_conditional\": 50, \"b_doubt_question\": 25, \"b_emphasis\": 100, \"b_negative\": 100, \"b_relative\": 100, \"b_topics\": 50, \"b_wh_question\": 100, \"b_yn_question\": 100}"
   ]
  },
  {
   "cell_type": "code",
   "execution_count": 7,
   "metadata": {},
   "outputs": [],
   "source": [
    "accDefaultMLP = {}\n",
    "accDefaultBagging = {}\n",
    "accPreMLP = {}\n",
    "accPreBagging = {}\n",
    "timePreMLP = {}\n",
    "timePreBag = {}"
   ]
  },
  {
   "cell_type": "code",
   "execution_count": 8,
   "metadata": {},
   "outputs": [],
   "source": [
    "def trainDefault(name):\n",
    "    X_train = pd.read_csv(\"./SplitData/\" + name + \"_X_train.csv\")\n",
    "    X_test = pd.read_csv(\"./SplitData/\" + name + \"_X_test.csv\")\n",
    "    y_train = pd.read_csv(\"./SplitData/\" + name + \"_y_train.csv\")\n",
    "    y_train = column_or_1d(y_train, warn=True)\n",
    "    y_test = pd.read_csv(\"./SplitData/\" + name + \"_y_test.csv\")\n",
    "    y_test = column_or_1d(y_test, warn=True)\n",
    "    mlp = MLPClassifier(random_state=42, hidden_layer_sizes=(30, 30), max_iter=50, activation=\"relu\", solver=\"adam\", alpha=alphas[i], learning_rate_init=lr[i])\n",
    "    bag = BaggingClassifier(mlp, n_estimators=estimators[i])\n",
    "\n",
    "    mlp.fit(X_train, y_train)\n",
    "    bag.fit(X_train, y_train)\n",
    "    predictMLP = mlp.predict(X_test)\n",
    "    predictBagging = bag.predict(X_test)\n",
    "\n",
    "    accDefaultMLP[name] = accuracy_score(y_test, predictMLP)\n",
    "    accDefaultBagging[name] = accuracy_score(y_test, predictBagging)\n",
    "\n",
    "def trainPre(name):\n",
    "    X_train = pd.read_csv(\"./SplitPreprocessedData/\" + name + \"_X_train.csv\")\n",
    "    X_test = pd.read_csv(\"./SplitPreprocessedData/\" + name + \"_X_test.csv\")\n",
    "    y_train = pd.read_csv(\"./SplitPreprocessedData/\" + name + \"_y_train.csv\")\n",
    "    y_train = column_or_1d(y_train, warn=True)\n",
    "    y_test = pd.read_csv(\"./SplitPreprocessedData/\" + name + \"_y_test.csv\")\n",
    "    y_test = column_or_1d(y_test, warn=True)\n",
    "    seconds = perf_counter()\n",
    "    mlp = MLPClassifier(random_state=42, hidden_layer_sizes=(30, 30), max_iter=50, activation=\"relu\", solver=\"adam\", alpha=alphas[i], learning_rate_init=lr[i])\n",
    "    bag = BaggingClassifier(mlp, n_estimators=estimators[i])\n",
    "\n",
    "    mlp.fit(X_train, y_train)\n",
    "    bag.fit(X_train, y_train)\n",
    "    predictMLP = mlp.predict(X_test)\n",
    "    predictBagging = bag.predict(X_test)\n",
    "\n",
    "    # accPreMLP[name] = accuracy_score(y_test, predictMLP)\n",
    "    # accPreBagging[name] = accuracy_score(y_test, predictBagging)\n",
    "    # timePreMLP[name] = perf_counter() - seconds\n",
    "    timePreBag[name] = perf_counter() - seconds "
   ]
  },
  {
   "cell_type": "code",
   "execution_count": 9,
   "metadata": {},
   "outputs": [
    {
     "name": "stderr",
     "output_type": "stream",
     "text": "E:\\Arquivos de Programas (x86)\\Anaconda\\lib\\site-packages\\ipykernel_launcher.py:23: DataConversionWarning: A column-vector y was passed when a 1d array was expected. Please change the shape of y to (n_samples, ), for example using ravel().\nE:\\Arquivos de Programas (x86)\\Anaconda\\lib\\site-packages\\ipykernel_launcher.py:25: DataConversionWarning: A column-vector y was passed when a 1d array was expected. Please change the shape of y to (n_samples, ), for example using ravel().\nE:\\Arquivos de Programas (x86)\\Anaconda\\lib\\site-packages\\ipykernel_launcher.py:23: DataConversionWarning: A column-vector y was passed when a 1d array was expected. Please change the shape of y to (n_samples, ), for example using ravel().\nE:\\Arquivos de Programas (x86)\\Anaconda\\lib\\site-packages\\ipykernel_launcher.py:25: DataConversionWarning: A column-vector y was passed when a 1d array was expected. Please change the shape of y to (n_samples, ), for example using ravel().\nE:\\Arquivos de Programas (x86)\\Anaconda\\lib\\site-packages\\ipykernel_launcher.py:23: DataConversionWarning: A column-vector y was passed when a 1d array was expected. Please change the shape of y to (n_samples, ), for example using ravel().\nE:\\Arquivos de Programas (x86)\\Anaconda\\lib\\site-packages\\ipykernel_launcher.py:25: DataConversionWarning: A column-vector y was passed when a 1d array was expected. Please change the shape of y to (n_samples, ), for example using ravel().\nE:\\Arquivos de Programas (x86)\\Anaconda\\lib\\site-packages\\ipykernel_launcher.py:23: DataConversionWarning: A column-vector y was passed when a 1d array was expected. Please change the shape of y to (n_samples, ), for example using ravel().\nE:\\Arquivos de Programas (x86)\\Anaconda\\lib\\site-packages\\ipykernel_launcher.py:25: DataConversionWarning: A column-vector y was passed when a 1d array was expected. Please change the shape of y to (n_samples, ), for example using ravel().\nE:\\Arquivos de Programas (x86)\\Anaconda\\lib\\site-packages\\ipykernel_launcher.py:23: DataConversionWarning: A column-vector y was passed when a 1d array was expected. Please change the shape of y to (n_samples, ), for example using ravel().\nE:\\Arquivos de Programas (x86)\\Anaconda\\lib\\site-packages\\ipykernel_launcher.py:25: DataConversionWarning: A column-vector y was passed when a 1d array was expected. Please change the shape of y to (n_samples, ), for example using ravel().\nE:\\Arquivos de Programas (x86)\\Anaconda\\lib\\site-packages\\ipykernel_launcher.py:23: DataConversionWarning: A column-vector y was passed when a 1d array was expected. Please change the shape of y to (n_samples, ), for example using ravel().\nE:\\Arquivos de Programas (x86)\\Anaconda\\lib\\site-packages\\ipykernel_launcher.py:25: DataConversionWarning: A column-vector y was passed when a 1d array was expected. Please change the shape of y to (n_samples, ), for example using ravel().\nE:\\Arquivos de Programas (x86)\\Anaconda\\lib\\site-packages\\ipykernel_launcher.py:23: DataConversionWarning: A column-vector y was passed when a 1d array was expected. Please change the shape of y to (n_samples, ), for example using ravel().\nE:\\Arquivos de Programas (x86)\\Anaconda\\lib\\site-packages\\ipykernel_launcher.py:25: DataConversionWarning: A column-vector y was passed when a 1d array was expected. Please change the shape of y to (n_samples, ), for example using ravel().\nE:\\Arquivos de Programas (x86)\\Anaconda\\lib\\site-packages\\ipykernel_launcher.py:23: DataConversionWarning: A column-vector y was passed when a 1d array was expected. Please change the shape of y to (n_samples, ), for example using ravel().\nE:\\Arquivos de Programas (x86)\\Anaconda\\lib\\site-packages\\ipykernel_launcher.py:25: DataConversionWarning: A column-vector y was passed when a 1d array was expected. Please change the shape of y to (n_samples, ), for example using ravel().\nE:\\Arquivos de Programas (x86)\\Anaconda\\lib\\site-packages\\ipykernel_launcher.py:23: DataConversionWarning: A column-vector y was passed when a 1d array was expected. Please change the shape of y to (n_samples, ), for example using ravel().\nE:\\Arquivos de Programas (x86)\\Anaconda\\lib\\site-packages\\ipykernel_launcher.py:25: DataConversionWarning: A column-vector y was passed when a 1d array was expected. Please change the shape of y to (n_samples, ), for example using ravel().\nE:\\Arquivos de Programas (x86)\\Anaconda\\lib\\site-packages\\ipykernel_launcher.py:23: DataConversionWarning: A column-vector y was passed when a 1d array was expected. Please change the shape of y to (n_samples, ), for example using ravel().\nE:\\Arquivos de Programas (x86)\\Anaconda\\lib\\site-packages\\ipykernel_launcher.py:25: DataConversionWarning: A column-vector y was passed when a 1d array was expected. Please change the shape of y to (n_samples, ), for example using ravel().\nE:\\Arquivos de Programas (x86)\\Anaconda\\lib\\site-packages\\ipykernel_launcher.py:23: DataConversionWarning: A column-vector y was passed when a 1d array was expected. Please change the shape of y to (n_samples, ), for example using ravel().\nE:\\Arquivos de Programas (x86)\\Anaconda\\lib\\site-packages\\ipykernel_launcher.py:25: DataConversionWarning: A column-vector y was passed when a 1d array was expected. Please change the shape of y to (n_samples, ), for example using ravel().\nE:\\Arquivos de Programas (x86)\\Anaconda\\lib\\site-packages\\ipykernel_launcher.py:23: DataConversionWarning: A column-vector y was passed when a 1d array was expected. Please change the shape of y to (n_samples, ), for example using ravel().\nE:\\Arquivos de Programas (x86)\\Anaconda\\lib\\site-packages\\ipykernel_launcher.py:25: DataConversionWarning: A column-vector y was passed when a 1d array was expected. Please change the shape of y to (n_samples, ), for example using ravel().\nE:\\Arquivos de Programas (x86)\\Anaconda\\lib\\site-packages\\ipykernel_launcher.py:23: DataConversionWarning: A column-vector y was passed when a 1d array was expected. Please change the shape of y to (n_samples, ), for example using ravel().\nE:\\Arquivos de Programas (x86)\\Anaconda\\lib\\site-packages\\ipykernel_launcher.py:25: DataConversionWarning: A column-vector y was passed when a 1d array was expected. Please change the shape of y to (n_samples, ), for example using ravel().\nE:\\Arquivos de Programas (x86)\\Anaconda\\lib\\site-packages\\ipykernel_launcher.py:23: DataConversionWarning: A column-vector y was passed when a 1d array was expected. Please change the shape of y to (n_samples, ), for example using ravel().\nE:\\Arquivos de Programas (x86)\\Anaconda\\lib\\site-packages\\ipykernel_launcher.py:25: DataConversionWarning: A column-vector y was passed when a 1d array was expected. Please change the shape of y to (n_samples, ), for example using ravel().\nE:\\Arquivos de Programas (x86)\\Anaconda\\lib\\site-packages\\ipykernel_launcher.py:23: DataConversionWarning: A column-vector y was passed when a 1d array was expected. Please change the shape of y to (n_samples, ), for example using ravel().\nE:\\Arquivos de Programas (x86)\\Anaconda\\lib\\site-packages\\ipykernel_launcher.py:25: DataConversionWarning: A column-vector y was passed when a 1d array was expected. Please change the shape of y to (n_samples, ), for example using ravel().\nE:\\Arquivos de Programas (x86)\\Anaconda\\lib\\site-packages\\ipykernel_launcher.py:23: DataConversionWarning: A column-vector y was passed when a 1d array was expected. Please change the shape of y to (n_samples, ), for example using ravel().\nE:\\Arquivos de Programas (x86)\\Anaconda\\lib\\site-packages\\ipykernel_launcher.py:25: DataConversionWarning: A column-vector y was passed when a 1d array was expected. Please change the shape of y to (n_samples, ), for example using ravel().\nE:\\Arquivos de Programas (x86)\\Anaconda\\lib\\site-packages\\ipykernel_launcher.py:23: DataConversionWarning: A column-vector y was passed when a 1d array was expected. Please change the shape of y to (n_samples, ), for example using ravel().\nE:\\Arquivos de Programas (x86)\\Anaconda\\lib\\site-packages\\ipykernel_launcher.py:25: DataConversionWarning: A column-vector y was passed when a 1d array was expected. Please change the shape of y to (n_samples, ), for example using ravel().\nE:\\Arquivos de Programas (x86)\\Anaconda\\lib\\site-packages\\ipykernel_launcher.py:23: DataConversionWarning: A column-vector y was passed when a 1d array was expected. Please change the shape of y to (n_samples, ), for example using ravel().\nE:\\Arquivos de Programas (x86)\\Anaconda\\lib\\site-packages\\ipykernel_launcher.py:25: DataConversionWarning: A column-vector y was passed when a 1d array was expected. Please change the shape of y to (n_samples, ), for example using ravel().\n"
    }
   ],
   "source": [
    "for i in datasets:\n",
    "    # trainDefault(i)\n",
    "    trainPre(i)"
   ]
  },
  {
   "cell_type": "code",
   "execution_count": 10,
   "metadata": {},
   "outputs": [
    {
     "name": "stdout",
     "output_type": "stream",
     "text": "{'a_affirmative': 0.771667199999996, 'a_conditional': 0.36278349999999193, 'a_doubt_question': 0.25638829999999757, 'a_emphasis': 0.2529205000000019, 'a_negative': 0.2285698000000025, 'a_relative': 0.4185933999999918, 'a_topics': 0.33846379999999954, 'a_wh_question': 0.2881155999999976, 'a_yn_question': 0.2868249999999932, 'b_affirmative': 0.20767870000000244, 'b_conditional': 0.36181639999999504, 'b_doubt_question': 0.32724830000000793, 'b_emphasis': 0.2696046000000081, 'b_negative': 0.2776920000000018, 'b_relative': 0.3533285000000035, 'b_topics': 0.35009870000000376, 'b_wh_question': 0.25419340000000545, 'b_yn_question': 0.3107455000000101}\n"
    }
   ],
   "source": [
    "# print(accDefaultMLP)\n",
    "# print(accDefaultBagging)\n",
    "# print(accPreMLP)\n",
    "# print(accPreBagging)\n",
    "print(timePreMLP)"
   ]
  },
  {
   "cell_type": "code",
   "execution_count": null,
   "metadata": {},
   "outputs": [],
   "source": []
  }
 ]
}