{
 "nbformat": 4,
 "nbformat_minor": 2,
 "metadata": {
  "language_info": {
   "name": "python",
   "codemirror_mode": {
    "name": "ipython",
    "version": 3
   },
   "version": "3.7.3"
  },
  "orig_nbformat": 2,
  "file_extension": ".py",
  "mimetype": "text/x-python",
  "name": "python",
  "npconvert_exporter": "python",
  "pygments_lexer": "ipython3",
  "version": 3
 },
 "cells": [
  {
   "cell_type": "code",
   "execution_count": 1,
   "metadata": {},
   "outputs": [],
   "source": [
    "import pandas as pd\n",
    "from sklearn.model_selection import train_test_split, cross_val_predict\n",
    "from sklearn.neural_network import MLPClassifier\n",
    "from sklearn.ensemble import BaggingClassifier\n",
    "from sklearn.metrics import roc_auc_score\n",
    "from sklearn.utils.validation import column_or_1d"
   ]
  },
  {
   "cell_type": "code",
   "execution_count": null,
   "metadata": {},
   "outputs": [],
   "source": [
    "datasets = [\"a_affirmative\", \"a_conditional\", \"a_doubt_question\", \"a_emphasis\", \"a_negative\", \"a_relative\", \"a_topics\", \"a_wh_question\", \"a_yn_question\",\n",
    "         \"b_affirmative\", \"b_conditional\", \"b_doubt_question\", \"b_emphasis\", \"b_negative\", \"b_relative\", \"b_topics\", \"b_wh_question\", \"b_yn_question\"]\n",
    "\n",
    "alphas = {\"a_affirmative\": 0.0001, \"a_conditional\": 0.0001, \"a_doubt_question\": 0.0001, \"a_emphasis\": 0.0001, \"a_negative\": 0.0003, \"a_relative\": 0.0003, \"a_topics\": 0.0003, \"a_wh_question\": 0.0003, \"a_yn_question\": 0.0001,\n",
    "         \"b_affirmative\": 0.01, \"b_conditional\": 0.01, \"b_doubt_question\": 0.001, \"b_emphasis\": 0.001, \"b_negative\": 0.003, \"b_relative\": 0.003, \"b_topics\": 0.01, \"b_wh_question\": 0.0001, \"b_yn_question\": 0.003}\n",
    "\n",
    "lr = {\"a_affirmative\": 0.01, \"a_conditional\": 0.01, \"a_doubt_question\": 0.01, \"a_emphasis\": 0.01, \"a_negative\": 0.01, \"a_relative\": 0.01, \"a_topics\": 0.01, \"a_wh_question\": 0.01, \"a_yn_question\": 0.003,\n",
    "         \"b_affirmative\": 0.01, \"b_conditional\": 0.01, \"b_doubt_question\": 0.01, \"b_emphasis\": 0.01, \"b_negative\": 0.01, \"b_relative\": 0.01, \"b_topics\": 0.01, \"b_wh_question\": 0.01, \"b_yn_question\": 0.01}\n",
    "\n",
    "estimators = {\"a_affirmative\": 100, \"a_conditional\": 25, \"a_doubt_question\": 100, \"a_emphasis\": 100, \"a_negative\": 100, \"a_relative\": 50, \"a_topics\": 50, \"a_wh_question\": 10, \"a_yn_question\": 25,\n",
    "         \"b_affirmative\": 25, \"b_conditional\": 50, \"b_doubt_question\": 25, \"b_emphasis\": 100, \"b_negative\": 100, \"b_relative\": 100, \"b_topics\": 50, \"b_wh_question\": 100, \"b_yn_question\": 100}"
   ]
  },
  {
   "cell_type": "code",
   "execution_count": null,
   "metadata": {},
   "outputs": [
    {
     "evalue": "Error: Invalid response: 501 Not Implemented",
     "output_type": "error"
    }
   ],
   "source": [
    "\n",
    "         "
   ]
  }
 ]
}