{
 "nbformat": 4,
 "nbformat_minor": 2,
 "metadata": {
  "language_info": {
   "name": "python",
   "codemirror_mode": {
    "name": "ipython",
    "version": 3
   },
   "version": "3.7.3"
  },
  "orig_nbformat": 2,
  "file_extension": ".py",
  "mimetype": "text/x-python",
  "name": "python",
  "npconvert_exporter": "python",
  "pygments_lexer": "ipython3",
  "version": 3
 },
 "cells": [
  {
   "cell_type": "code",
   "execution_count": 1,
   "metadata": {},
   "outputs": [],
   "source": [
    "import pandas as pd\n",
    "from sklearn.model_selection import train_test_split, cross_val_predict\n",
    "from sklearn.neural_network import MLPClassifier\n",
    "from sklearn.ensemble import BaggingClassifier\n",
    "from sklearn.metrics import accuracy_score\n",
    "from sklearn.utils.validation import column_or_1d\n",
    "from time import perf_counter\n",
    "from warnings import simplefilter\n",
    "from sklearn.exceptions import ConvergenceWarning, DataConversionWarning\n",
    "simplefilter(\"ignore\", category=ConvergenceWarning)\n",
    "simplefilter(\"ignore\", category=DataConversionWarning)"
   ]
  },
  {
   "cell_type": "code",
   "execution_count": 3,
   "metadata": {},
   "outputs": [],
   "source": [
    "datasets = [\"a_affirmative\", \"a_conditional\", \"a_doubt_question\", \"a_emphasis\", \"a_negative\", \"a_relative\", \"a_topics\", \"a_wh_question\", \"a_yn_question\",\n",
    "         \"b_affirmative\", \"b_conditional\", \"b_doubt_question\", \"b_emphasis\", \"b_negative\", \"b_relative\", \"b_topics\", \"b_wh_question\", \"b_yn_question\"]\n",
    "\n",
    "paramsMLP = {'a_affirmative': {'alpha': 0.0001, 'learning_rate_init': 0.01, 'RocAucScore': 0.7322321234514235},\n",
    "          'a_conditional': {'alpha': 0.001, 'learning_rate_init': 0.01, 'RocAucScore': 0.6878647342995169},\n",
    "          'a_doubt_question': {'alpha': 0.0001, 'learning_rate_init': 0.003, 'RocAucScore': 0.5718023939242163},\n",
    "          'a_emphasis': {'alpha': 0.01, 'learning_rate_init': 0.01, 'RocAucScore': 0.6144836486716828},\n",
    "          'a_negative': {'alpha': 0.001, 'learning_rate_init': 0.01, 'RocAucScore': 0.6915968192563937},\n",
    "          'a_relative': {'alpha': 0.0001, 'learning_rate_init': 0.01, 'RocAucScore': 0.6643406140531629},\n",
    "          'a_topics': {'alpha': 0.0003, 'learning_rate_init': 0.01, 'RocAucScore': 0.6473959455651511},\n",
    "          'a_wh_question': {'alpha': 0.001, 'learning_rate_init': 0.003, 'RocAucScore': 0.6318664763325446},\n",
    "          'a_yn_question': {'alpha': 0.0003, 'learning_rate_init': 0.01, 'RocAucScore': 0.7141722707760443},\n",
    "          'b_affirmative': {'alpha': 0.003, 'learning_rate_init': 0.01, 'RocAucScore': 0.7595775538857945},\n",
    "          'b_conditional': {'alpha': 0.01, 'learning_rate_init': 0.01, 'RocAucScore': 0.7658497968334034},\n",
    "          'b_doubt_question': {'alpha': 0.001, 'learning_rate_init': 0.01, 'RocAucScore': 0.7811996118516573},\n",
    "          'b_emphasis': {'alpha': 0.0001, 'learning_rate_init': 0.003, 'RocAucScore': 0.7074909383809908},\n",
    "          'b_negative': {'alpha': 0.0003, 'learning_rate_init': 0.01, 'RocAucScore': 0.7372542293019431},\n",
    "          'b_relative': {'alpha': 0.0001, 'learning_rate_init': 0.01, 'RocAucScore': 0.8059416272414742},\n",
    "          'b_topics': {'alpha': 0.001, 'learning_rate_init': 0.01, 'RocAucScore': 0.6770052961001445},\n",
    "          'b_wh_question': {'alpha': 0.0001, 'learning_rate_init': 0.01, 'RocAucScore': 0.8151934951139722},\n",
    "          'b_yn_question': {'alpha': 0.01, 'learning_rate_init': 0.003, 'RocAucScore': 0.7234257738267788}}\n",
    "\n",
    "paramsBag = {'a_affirmative'  : {'estimators': 50, 'RocAucScore': 0.7802962088986867},\n",
    "'a_conditional'  : {'estimators': 50, 'RocAucScore': 0.7332382014121144},\n",
    "'a_doubt_question'  : {'estimators': 10, 'RocAucScore': 0.6248530629350615},\n",
    "'a_emphasis'  : {'estimators': 50, 'RocAucScore': 0.6687425426741666},\n",
    "'a_negative'  : {'estimators': 25, 'RocAucScore': 0.7044648613797551},\n",
    "'a_relative'  : {'estimators': 50, 'RocAucScore': 0.7105254481763857},\n",
    "'a_topics'  : {'estimators': 10, 'RocAucScore': 0.7673299739760315},\n",
    "'a_wh_question'  : {'estimators': 50, 'RocAucScore': 0.6482704456880926},\n",
    "'a_yn_question'  : {'estimators': 100, 'RocAucScore': 0.7432410356938658},\n",
    "'b_affirmative'  : {'estimators': 100, 'RocAucScore': 0.7744665422060389},\n",
    "'b_conditional'  : {'estimators': 50, 'RocAucScore': 0.820222782681799},\n",
    "'b_doubt_question'  : {'estimators': 25, 'RocAucScore': 0.8274344999671679},\n",
    "'b_emphasis'  : {'estimators': 50, 'RocAucScore': 0.7621224325412808},\n",
    "'b_negative'  : {'estimators': 100, 'RocAucScore': 0.8080849621605088},\n",
    "'b_relative'  : {'estimators': 10, 'RocAucScore': 0.8524036030037836},\n",
    "'b_topics'  : {'estimators': 100, 'RocAucScore': 0.7710287273310865},\n",
    "'b_wh_question'  : {'estimators': 25, 'RocAucScore': 0.8498059263466818},\n",
    "'b_yn_question'  : {'estimators': 100, 'RocAucScore': 0.7652011466486295}}"
   ]
  },
  {
   "cell_type": "code",
   "execution_count": 4,
   "metadata": {},
   "outputs": [],
   "source": [
    "accDefaultMLP = {}\n",
    "accDefaultBagging = {}\n",
    "accPreMLP = {}\n",
    "accPreBagging = {}\n",
    "timePreMLP = {}\n",
    "timePreBag = {}"
   ]
  },
  {
   "cell_type": "code",
   "execution_count": 16,
   "metadata": {},
   "outputs": [],
   "source": [
    "def trainDefault(name):\n",
    "    X_train = pd.read_csv(\"./SplitData/\" + name + \"_X_train.csv\")\n",
    "    X_test = pd.read_csv(\"./SplitData/\" + name + \"_X_test.csv\")\n",
    "    y_train = pd.read_csv(\"./SplitData/\" + name + \"_y_train.csv\")\n",
    "    y_train = column_or_1d(y_train, warn=False)\n",
    "    y_test = pd.read_csv(\"./SplitData/\" + name + \"_y_test.csv\")\n",
    "    y_test = column_or_1d(y_test, warn=False)\n",
    "    mlp = MLPClassifier(random_state=42, hidden_layer_sizes=(30, 30), max_iter=50, activation=\"relu\", solver=\"adam\", alpha=alphas[name], learning_rate_init=lr[name])\n",
    "    bag = BaggingClassifier(mlp, n_estimators=estimators[name])\n",
    "\n",
    "    mlp.fit(X_train, y_train)\n",
    "    bag.fit(X_train, y_train)\n",
    "    predictMLP = mlp.predict(X_test)\n",
    "    predictBagging = bag.predict(X_test)\n",
    "\n",
    "    accDefaultMLP[name] = accuracy_score(y_test, predictMLP)\n",
    "    accDefaultBagging[name] = accuracy_score(y_test, predictBagging)\n",
    "\n",
    "def trainPre(name):\n",
    "    X_train = pd.read_csv(\"./SplitPreprocessedData/\" + name + \"_X_train.csv\")\n",
    "    X_test = pd.read_csv(\"./SplitPreprocessedData/\" + name + \"_X_test.csv\")\n",
    "    y_train = pd.read_csv(\"./SplitPreprocessedData/\" + name + \"_y_train.csv\")\n",
    "    y_train = column_or_1d(y_train, warn=False)\n",
    "    y_test = pd.read_csv(\"./SplitPreprocessedData/\" + name + \"_y_test.csv\")\n",
    "    y_test = column_or_1d(y_test, warn=False)\n",
    "    seconds = perf_counter()\n",
    "    mlp = MLPClassifier(random_state=42, hidden_layer_sizes=(30, 30), max_iter=50, activation=\"relu\", solver=\"adam\", alpha=paramsMLP[name]['alpha'], learning_rate_init=paramsMLP[name]['learning_rate_init'])\n",
    "    bag = BaggingClassifier(mlp, n_estimators=paramsBag[name]['estimators'])\n",
    "\n",
    "    # mlp.fit(X_train, y_train)\n",
    "    # predictMLP = mlp.predict(X_test)\n",
    "\n",
    "    bag.fit(X_train, y_train)\n",
    "    predictBagging = bag.predict(X_test)\n",
    "\n",
    "    # accPreMLP[name] = accuracy_score(y_test, predictMLP)\n",
    "    accPreBagging[name] = accuracy_score(y_test, predictBagging)\n",
    "    # timePreMLP[name] = perf_counter() - seconds\n",
    "    timePreBag[name] = perf_counter() - seconds "
   ]
  },
  {
   "cell_type": "code",
   "execution_count": 17,
   "metadata": {},
   "outputs": [],
   "source": [
    "for i in datasets:\n",
    "    # trainDefault(i)\n",
    "    trainPre(i)"
   ]
  },
  {
   "cell_type": "code",
   "execution_count": 18,
   "metadata": {},
   "outputs": [],
   "source": [
    "def printDict(d):\n",
    "    for i in d:\n",
    "        print(i, \" :\", d[i])\n",
    "    print()"
   ]
  },
  {
   "cell_type": "code",
   "execution_count": 19,
   "metadata": {},
   "outputs": [
    {
     "name": "stdout",
     "output_type": "stream",
     "text": "a_affirmative  : 0.7366255144032922\na_conditional  : 0.7058823529411765\na_doubt_question  : 0.6644518272425249\na_emphasis  : 0.8306709265175719\na_negative  : 0.627906976744186\na_relative  : 0.7270992366412213\na_topics  : 0.7936893203883495\na_wh_question  : 0.5466666666666666\na_yn_question  : 0.6273291925465838\nb_affirmative  : 0.6735537190082644\nb_conditional  : 0.7011494252873564\nb_doubt_question  : 0.65625\nb_emphasis  : 0.6212624584717608\nb_negative  : 0.6737804878048781\nb_relative  : 0.8166259168704156\nb_topics  : 0.7819905213270142\nb_wh_question  : 0.7755102040816326\nb_yn_question  : 0.726790450928382\n\na_affirmative  : 12.688171799999964\na_conditional  : 24.17234099999996\na_doubt_question  : 3.4096673999999894\na_emphasis  : 15.869863899999928\na_negative  : 6.621265200000153\na_relative  : 24.439079300000003\na_topics  : 4.013929799999914\na_wh_question  : 15.474587400000019\na_yn_question  : 31.738706000000093\nb_affirmative  : 24.581829599999992\nb_conditional  : 21.01357810000013\nb_doubt_question  : 8.574905200000103\nb_emphasis  : 14.295685999999932\nb_negative  : 27.33024679999994\nb_relative  : 3.9350306999999702\nb_topics  : 38.7410640999999\nb_wh_question  : 6.73759229999996\nb_yn_question  : 35.54161739999995\n\n"
    }
   ],
   "source": [
    "# print(accDefaultMLP)\n",
    "# print(accDefaultBagging)\n",
    "# printDict(accPreMLP)\n",
    "printDict(accPreBagging)\n",
    "# printDict(timePreMLP)\n",
    "printDict(timePreBag)"
   ]
  },
  {
   "cell_type": "code",
   "execution_count": null,
   "metadata": {},
   "outputs": [],
   "source": []
  }
 ]
}