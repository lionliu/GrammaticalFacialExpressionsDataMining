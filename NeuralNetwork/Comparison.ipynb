{
 "nbformat": 4,
 "nbformat_minor": 2,
 "metadata": {
  "language_info": {
   "name": "python",
   "codemirror_mode": {
    "name": "ipython",
    "version": 3
   },
   "version": "3.7.3"
  },
  "orig_nbformat": 2,
  "file_extension": ".py",
  "mimetype": "text/x-python",
  "name": "python",
  "npconvert_exporter": "python",
  "pygments_lexer": "ipython3",
  "version": 3
 },
 "cells": [
  {
   "cell_type": "code",
   "execution_count": 1,
   "metadata": {},
   "outputs": [],
   "source": [
    "import pandas as pd\n",
    "from sklearn.model_selection import train_test_split, cross_val_predict\n",
    "from sklearn.neural_network import MLPClassifier\n",
    "from sklearn.ensemble import BaggingClassifier\n",
    "from sklearn.metrics import accuracy_score\n",
    "from sklearn.utils.validation import column_or_1d"
   ]
  },
  {
   "cell_type": "code",
   "execution_count": 2,
   "metadata": {},
   "outputs": [],
   "source": [
    "datasets = [\"a_affirmative\", \"a_conditional\", \"a_doubt_question\", \"a_emphasis\", \"a_negative\", \"a_relative\", \"a_topics\", \"a_wh_question\", \"a_yn_question\",\n",
    "         \"b_affirmative\", \"b_conditional\", \"b_doubt_question\", \"b_emphasis\", \"b_negative\", \"b_relative\", \"b_topics\", \"b_wh_question\", \"b_yn_question\"]\n",
    "\n",
    "alphas = {\"a_affirmative\": 0.0001, \"a_conditional\": 0.0001, \"a_doubt_question\": 0.0001, \"a_emphasis\": 0.0001, \"a_negative\": 0.0003, \"a_relative\": 0.0003, \"a_topics\": 0.0003, \"a_wh_question\": 0.0003, \"a_yn_question\": 0.0001,\n",
    "         \"b_affirmative\": 0.01, \"b_conditional\": 0.01, \"b_doubt_question\": 0.001, \"b_emphasis\": 0.001, \"b_negative\": 0.003, \"b_relative\": 0.003, \"b_topics\": 0.01, \"b_wh_question\": 0.0001, \"b_yn_question\": 0.003}\n",
    "\n",
    "lr = {\"a_affirmative\": 0.01, \"a_conditional\": 0.01, \"a_doubt_question\": 0.01, \"a_emphasis\": 0.01, \"a_negative\": 0.01, \"a_relative\": 0.01, \"a_topics\": 0.01, \"a_wh_question\": 0.01, \"a_yn_question\": 0.003,\n",
    "         \"b_affirmative\": 0.01, \"b_conditional\": 0.01, \"b_doubt_question\": 0.01, \"b_emphasis\": 0.01, \"b_negative\": 0.01, \"b_relative\": 0.01, \"b_topics\": 0.01, \"b_wh_question\": 0.01, \"b_yn_question\": 0.01}\n",
    "\n",
    "estimators = {\"a_affirmative\": 100, \"a_conditional\": 25, \"a_doubt_question\": 100, \"a_emphasis\": 100, \"a_negative\": 100, \"a_relative\": 50, \"a_topics\": 50, \"a_wh_question\": 10, \"a_yn_question\": 25,\n",
    "         \"b_affirmative\": 25, \"b_conditional\": 50, \"b_doubt_question\": 25, \"b_emphasis\": 100, \"b_negative\": 100, \"b_relative\": 100, \"b_topics\": 50, \"b_wh_question\": 100, \"b_yn_question\": 100}"
   ]
  },
  {
   "cell_type": "code",
   "execution_count": 3,
   "metadata": {},
   "outputs": [],
   "source": [
    "accDefaultMLP = {}\n",
    "accDefaultBagging = {}\n",
    "accPreMLP = {}\n",
    "accPreBagging = {}"
   ]
  },
  {
   "cell_type": "code",
   "execution_count": 4,
   "metadata": {},
   "outputs": [],
   "source": [
    "def trainDefault(name):\n",
    "    X_train = pd.read_csv(\"./SplitData/\" + name + \"_X_train.csv\")\n",
    "    X_test = pd.read_csv(\"./SplitData/\" + name + \"_X_test.csv\")\n",
    "    y_train = pd.read_csv(\"./SplitData/\" + name + \"_y_train.csv\")\n",
    "    y_train = column_or_1d(y_train, warn=True)\n",
    "    y_test = pd.read_csv(\"./SplitData/\" + name + \"_y_test.csv\")\n",
    "    y_test = column_or_1d(y_test, warn=True)\n",
    "    mlp = MLPClassifier(random_state=42, hidden_layer_sizes=(30, 30), max_iter=50, activation=\"relu\", solver=\"adam\", alpha=alphas[i], learning_rate_init=lr[i])\n",
    "    bag = BaggingClassifier(mlp, n_estimators=estimators[i])\n",
    "\n",
    "    mlp.fit(X_train, y_train)\n",
    "    bag.fit(X_train, y_train)\n",
    "    predictMLP = mlp.predict(X_test)\n",
    "    predictBagging = bag.predict(X_test)\n",
    "\n",
    "    accDefaultMLP[name] = accuracy_score(y_test, predictMLP)\n",
    "    accDefaultBagging[name] = accuracy_score(y_test, predictBagging)\n",
    "\n",
    "def trainPre(name):\n",
    "    X_train = pd.read_csv(\"./SplitPreprocessedData/\" + name + \"_X_train.csv\")\n",
    "    X_test = pd.read_csv(\"./SplitPreprocessedData/\" + name + \"_X_test.csv\")\n",
    "    y_train = pd.read_csv(\"./SplitPreprocessedData/\" + name + \"_y_train.csv\")\n",
    "    y_train = column_or_1d(y_train, warn=True)\n",
    "    y_test = pd.read_csv(\"./SplitPreprocessedData/\" + name + \"_y_test.csv\")\n",
    "    y_test = column_or_1d(y_test, warn=True)\n",
    "\n",
    "    mlp = MLPClassifier(random_state=42, hidden_layer_sizes=(30, 30), max_iter=50, activation=\"relu\", solver=\"adam\", alpha=alphas[i], learning_rate_init=lr[i])\n",
    "    bag = BaggingClassifier(mlp, n_estimators=estimators[i])\n",
    "\n",
    "    mlp.fit(X_train, y_train)\n",
    "    bag.fit(X_train, y_train)\n",
    "    predictMLP = mlp.predict(X_test)\n",
    "    predictBagging = bag.predict(X_test)\n",
    "\n",
    "    accPreMLP[name] = accuracy_score(y_test, predictMLP)\n",
    "    accPreBagging[name] = accuracy_score(y_test, predictBagging)"
   ]
  },
  {
   "cell_type": "code",
   "execution_count": 5,
   "metadata": {},
   "outputs": [
    {
     "name": "stderr",
     "output_type": "stream",
     "text": "(x86)\\Anaconda\\lib\\site-packages\\sklearn\\neural_network\\multilayer_perceptron.py:566: ConvergenceWarning: Stochastic Optimizer: Maximum iterations (50) reached and the optimization hasn't converged yet.\n  % self.max_iter, ConvergenceWarning)\nE:\\Arquivos de Programas (x86)\\Anaconda\\lib\\site-packages\\sklearn\\neural_network\\multilayer_perceptron.py:566: ConvergenceWarning: Stochastic Optimizer: Maximum iterations (50) reached and the optimization hasn't converged yet.\n  % self.max_iter, ConvergenceWarning)\nE:\\Arquivos de Programas (x86)\\Anaconda\\lib\\site-packages\\sklearn\\neural_network\\multilayer_perceptron.py:566: ConvergenceWarning: Stochastic Optimizer: Maximum iterations (50) reached and the optimization hasn't converged yet.\n  % self.max_iter, ConvergenceWarning)\nE:\\Arquivos de Programas (x86)\\Anaconda\\lib\\site-packages\\sklearn\\neural_network\\multilayer_perceptron.py:566: ConvergenceWarning: Stochastic Optimizer: Maximum iterations (50) reached and the optimization hasn't converged yet.\n  % self.max_iter, ConvergenceWarning)\nE:\\Arquivos de Programas (x86)\\Anaconda\\lib\\site-packages\\sklearn\\neural_network\\multilayer_perceptron.py:566: ConvergenceWarning: Stochastic Optimizer: Maximum iterations (50) reached and the optimization hasn't converged yet.\n  % self.max_iter, ConvergenceWarning)\nE:\\Arquivos de Programas (x86)\\Anaconda\\lib\\site-packages\\sklearn\\neural_network\\multilayer_perceptron.py:566: ConvergenceWarning: Stochastic Optimizer: Maximum iterations (50) reached and the optimization hasn't converged yet.\n  % self.max_iter, ConvergenceWarning)\nE:\\Arquivos de Programas (x86)\\Anaconda\\lib\\site-packages\\sklearn\\neural_network\\multilayer_perceptron.py:566: ConvergenceWarning: Stochastic Optimizer: Maximum iterations (50) reached and the optimization hasn't converged yet.\n  % self.max_iter, ConvergenceWarning)\nE:\\Arquivos de Programas (x86)\\Anaconda\\lib\\site-packages\\sklearn\\neural_network\\multilayer_perceptron.py:566: ConvergenceWarning: Stochastic Optimizer: Maximum iterations (50) reached and the optimization hasn't converged yet.\n  % self.max_iter, ConvergenceWarning)\nE:\\Arquivos de Programas (x86)\\Anaconda\\lib\\site-packages\\sklearn\\neural_network\\multilayer_perceptron.py:566: ConvergenceWarning: Stochastic Optimizer: Maximum iterations (50) reached and the optimization hasn't converged yet.\n  % self.max_iter, ConvergenceWarning)\nE:\\Arquivos de Programas (x86)\\Anaconda\\lib\\site-packages\\sklearn\\neural_network\\multilayer_perceptron.py:566: ConvergenceWarning: Stochastic Optimizer: Maximum iterations (50) reached and the optimization hasn't converged yet.\n  % self.max_iter, ConvergenceWarning)\nE:\\Arquivos de Programas (x86)\\Anaconda\\lib\\site-packages\\sklearn\\neural_network\\multilayer_perceptron.py:566: ConvergenceWarning: Stochastic Optimizer: Maximum iterations (50) reached and the optimization hasn't converged yet.\n  % self.max_iter, ConvergenceWarning)\nE:\\Arquivos de Programas (x86)\\Anaconda\\lib\\site-packages\\sklearn\\neural_network\\multilayer_perceptron.py:566: ConvergenceWarning: Stochastic Optimizer: Maximum iterations (50) reached and the optimization hasn't converged yet.\n  % self.max_iter, ConvergenceWarning)\nE:\\Arquivos de Programas (x86)\\Anaconda\\lib\\site-packages\\sklearn\\neural_network\\multilayer_perceptron.py:566: ConvergenceWarning: Stochastic Optimizer: Maximum iterations (50) reached and the optimization hasn't converged yet.\n  % self.max_iter, ConvergenceWarning)\nE:\\Arquivos de Programas (x86)\\Anaconda\\lib\\site-packages\\sklearn\\neural_network\\multilayer_perceptron.py:566: ConvergenceWarning: Stochastic Optimizer: Maximum iterations (50) reached and the optimization hasn't converged yet.\n  % self.max_iter, ConvergenceWarning)\nE:\\Arquivos de Programas (x86)\\Anaconda\\lib\\site-packages\\sklearn\\neural_network\\multilayer_perceptron.py:566: ConvergenceWarning: Stochastic Optimizer: Maximum iterations (50) reached and the optimization hasn't converged yet.\n  % self.max_iter, ConvergenceWarning)\nE:\\Arquivos de Programas (x86)\\Anaconda\\lib\\site-packages\\sklearn\\neural_network\\multilayer_perceptron.py:566: ConvergenceWarning: Stochastic Optimizer: Maximum iterations (50) reached and the optimization hasn't converged yet.\n  % self.max_iter, ConvergenceWarning)\nE:\\Arquivos de Programas (x86)\\Anaconda\\lib\\site-packages\\sklearn\\neural_network\\multilayer_perceptron.py:566: ConvergenceWarning: Stochastic Optimizer: Maximum iterations (50) reached and the optimization hasn't converged yet.\n  % self.max_iter, ConvergenceWarning)\nE:\\Arquivos de Programas (x86)\\Anaconda\\lib\\site-packages\\sklearn\\neural_network\\multilayer_perceptron.py:566: ConvergenceWarning: Stochastic Optimizer: Maximum iterations (50) reached and the optimization hasn't converged yet.\n  % self.max_iter, ConvergenceWarning)\nE:\\Arquivos de Programas (x86)\\Anaconda\\lib\\site-packages\\sklearn\\neural_network\\multilayer_perceptron.py:566: ConvergenceWarning: Stochastic Optimizer: Maximum iterations (50) reached and the optimization hasn't converged yet.\n  % self.max_iter, ConvergenceWarning)\nE:\\Arquivos de Programas (x86)\\Anaconda\\lib\\site-packages\\sklearn\\neural_network\\multilayer_perceptron.py:566: ConvergenceWarning: Stochastic Optimizer: Maximum iterations (50) reached and the optimization hasn't converged yet.\n  % self.max_iter, ConvergenceWarning)\nE:\\Arquivos de Programas (x86)\\Anaconda\\lib\\site-packages\\sklearn\\neural_network\\multilayer_perceptron.py:566: ConvergenceWarning: Stochastic Optimizer: Maximum iterations (50) reached and the optimization hasn't converged yet.\n  % self.max_iter, ConvergenceWarning)\nE:\\Arquivos de Programas (x86)\\Anaconda\\lib\\site-packages\\sklearn\\neural_network\\multilayer_perceptron.py:566: ConvergenceWarning: Stochastic Optimizer: Maximum iterations (50) reached and the optimization hasn't converged yet.\n  % self.max_iter, ConvergenceWarning)\nE:\\Arquivos de Programas (x86)\\Anaconda\\lib\\site-packages\\sklearn\\neural_network\\multilayer_perceptron.py:566: ConvergenceWarning: Stochastic Optimizer: Maximum iterations (50) reached and the optimization hasn't converged yet.\n  % self.max_iter, ConvergenceWarning)\nE:\\Arquivos de Programas (x86)\\Anaconda\\lib\\site-packages\\sklearn\\neural_network\\multilayer_perceptron.py:566: ConvergenceWarning: Stochastic Optimizer: Maximum iterations (50) reached and the optimization hasn't converged yet.\n  % self.max_iter, ConvergenceWarning)\nE:\\Arquivos de Programas (x86)\\Anaconda\\lib\\site-packages\\sklearn\\neural_network\\multilayer_perceptron.py:566: ConvergenceWarning: Stochastic Optimizer: Maximum iterations (50) reached and the optimization hasn't converged yet.\n  % self.max_iter, ConvergenceWarning)\nE:\\Arquivos de Programas (x86)\\Anaconda\\lib\\site-packages\\sklearn\\neural_network\\multilayer_perceptron.py:566: ConvergenceWarning: Stochastic Optimizer: Maximum iterations (50) reached and the optimization hasn't converged yet.\n  % self.max_iter, ConvergenceWarning)\nE:\\Arquivos de Programas (x86)\\Anaconda\\lib\\site-packages\\sklearn\\neural_network\\multilayer_perceptron.py:566: ConvergenceWarning: Stochastic Optimizer: Maximum iterations (50) reached and the optimization hasn't converged yet.\n  % self.max_iter, ConvergenceWarning)\nE:\\Arquivos de Programas (x86)\\Anaconda\\lib\\site-packages\\sklearn\\neural_network\\multilayer_perceptron.py:566: ConvergenceWarning: Stochastic Optimizer: Maximum iterations (50) reached and the optimization hasn't converged yet.\n  % self.max_iter, ConvergenceWarning)\nE:\\Arquivos de Programas (x86)\\Anaconda\\lib\\site-packages\\sklearn\\neural_network\\multilayer_perceptron.py:566: ConvergenceWarning: Stochastic Optimizer: Maximum iterations (50) reached and the optimization hasn't converged yet.\n  % self.max_iter, ConvergenceWarning)\nE:\\Arquivos de Programas (x86)\\Anaconda\\lib\\site-packages\\sklearn\\neural_network\\multilayer_perceptron.py:566: ConvergenceWarning: Stochastic Optimizer: Maximum iterations (50) reached and the optimization hasn't converged yet.\n  % self.max_iter, ConvergenceWarning)\nE:\\Arquivos de Programas (x86)\\Anaconda\\lib\\site-packages\\sklearn\\neural_network\\multilayer_perceptron.py:566: ConvergenceWarning: Stochastic Optimizer: Maximum iterations (50) reached and the optimization hasn't converged yet.\n  % self.max_iter, ConvergenceWarning)\nE:\\Arquivos de Programas (x86)\\Anaconda\\lib\\site-packages\\sklearn\\neural_network\\multilayer_perceptron.py:566: ConvergenceWarning: Stochastic Optimizer: Maximum iterations (50) reached and the optimization hasn't converged yet.\n  % self.max_iter, ConvergenceWarning)\nE:\\Arquivos de Programas (x86)\\Anaconda\\lib\\site-packages\\sklearn\\neural_network\\multilayer_perceptron.py:566: ConvergenceWarning: Stochastic Optimizer: Maximum iterations (50) reached and the optimization hasn't converged yet.\n  % self.max_iter, ConvergenceWarning)\nE:\\Arquivos de Programas (x86)\\Anaconda\\lib\\site-packages\\sklearn\\neural_network\\multilayer_perceptron.py:566: ConvergenceWarning: Stochastic Optimizer: Maximum iterations (50) reached and the optimization hasn't converged yet.\n  % self.max_iter, ConvergenceWarning)\nE:\\Arquivos de Programas (x86)\\Anaconda\\lib\\site-packages\\sklearn\\neural_network\\multilayer_perceptron.py:566: ConvergenceWarning: Stochastic Optimizer: Maximum iterations (50) reached and the optimization hasn't converged yet.\n  % self.max_iter, ConvergenceWarning)\nE:\\Arquivos de Programas (x86)\\Anaconda\\lib\\site-packages\\sklearn\\neural_network\\multilayer_perceptron.py:566: ConvergenceWarning: Stochastic Optimizer: Maximum iterations (50) reached and the optimization hasn't converged yet.\n  % self.max_iter, ConvergenceWarning)\nE:\\Arquivos de Programas (x86)\\Anaconda\\lib\\site-packages\\sklearn\\neural_network\\multilayer_perceptron.py:566: ConvergenceWarning: Stochastic Optimizer: Maximum iterations (50) reached and the optimization hasn't converged yet.\n  % self.max_iter, ConvergenceWarning)\nE:\\Arquivos de Programas (x86)\\Anaconda\\lib\\site-packages\\sklearn\\neural_network\\multilayer_perceptron.py:566: ConvergenceWarning: Stochastic Optimizer: Maximum iterations (50) reached and the optimization hasn't converged yet.\n  % self.max_iter, ConvergenceWarning)\nE:\\Arquivos de Programas (x86)\\Anaconda\\lib\\site-packages\\sklearn\\neural_network\\multilayer_perceptron.py:566: ConvergenceWarning: Stochastic Optimizer: Maximum iterations (50) reached and the optimization hasn't converged yet.\n  % self.max_iter, ConvergenceWarning)\nE:\\Arquivos de Programas (x86)\\Anaconda\\lib\\site-packages\\sklearn\\neural_network\\multilayer_perceptron.py:566: ConvergenceWarning: Stochastic Optimizer: Maximum iterations (50) reached and the optimization hasn't converged yet.\n  % self.max_iter, ConvergenceWarning)\nE:\\Arquivos de Programas (x86)\\Anaconda\\lib\\site-packages\\sklearn\\neural_network\\multilayer_perceptron.py:566: ConvergenceWarning: Stochastic Optimizer: Maximum iterations (50) reached and the optimization hasn't converged yet.\n  % self.max_iter, ConvergenceWarning)\nE:\\Arquivos de Programas (x86)\\Anaconda\\lib\\site-packages\\sklearn\\neural_network\\multilayer_perceptron.py:566: ConvergenceWarning: Stochastic Optimizer: Maximum iterations (50) reached and the optimization hasn't converged yet.\n  % self.max_iter, ConvergenceWarning)\nE:\\Arquivos de Programas (x86)\\Anaconda\\lib\\site-packages\\sklearn\\neural_network\\multilayer_perceptron.py:566: ConvergenceWarning: Stochastic Optimizer: Maximum iterations (50) reached and the optimization hasn't converged yet.\n  % self.max_iter, ConvergenceWarning)\nE:\\Arquivos de Programas (x86)\\Anaconda\\lib\\site-packages\\sklearn\\neural_network\\multilayer_perceptron.py:566: ConvergenceWarning: Stochastic Optimizer: Maximum iterations (50) reached and the optimization hasn't converged yet.\n  % self.max_iter, ConvergenceWarning)\nE:\\Arquivos de Programas (x86)\\Anaconda\\lib\\site-packages\\sklearn\\neural_network\\multilayer_perceptron.py:566: ConvergenceWarning: Stochastic Optimizer: Maximum iterations (50) reached and the optimization hasn't converged yet.\n  % self.max_iter, ConvergenceWarning)\nE:\\Arquivos de Programas (x86)\\Anaconda\\lib\\site-packages\\sklearn\\neural_network\\multilayer_perceptron.py:566: ConvergenceWarning: Stochastic Optimizer: Maximum iterations (50) reached and the optimization hasn't converged yet.\n  % self.max_iter, ConvergenceWarning)\nE:\\Arquivos de Programas (x86)\\Anaconda\\lib\\site-packages\\sklearn\\neural_network\\multilayer_perceptron.py:566: ConvergenceWarning: Stochastic Optimizer: Maximum iterations (50) reached and the optimization hasn't converged yet.\n  % self.max_iter, ConvergenceWarning)\nE:\\Arquivos de Programas (x86)\\Anaconda\\lib\\site-packages\\sklearn\\neural_network\\multilayer_perceptron.py:566: ConvergenceWarning: Stochastic Optimizer: Maximum iterations (50) reached and the optimization hasn't converged yet.\n  % self.max_iter, ConvergenceWarning)\nE:\\Arquivos de Programas (x86)\\Anaconda\\lib\\site-packages\\sklearn\\neural_network\\multilayer_perceptron.py:566: ConvergenceWarning: Stochastic Optimizer: Maximum iterations (50) reached and the optimization hasn't converged yet.\n  % self.max_iter, ConvergenceWarning)\nE:\\Arquivos de Programas (x86)\\Anaconda\\lib\\site-packages\\sklearn\\neural_network\\multilayer_perceptron.py:566: ConvergenceWarning: Stochastic Optimizer: Maximum iterations (50) reached and the optimization hasn't converged yet.\n  % self.max_iter, ConvergenceWarning)\nE:\\Arquivos de Programas (x86)\\Anaconda\\lib\\site-packages\\sklearn\\neural_network\\multilayer_perceptron.py:566: ConvergenceWarning: Stochastic Optimizer: Maximum iterations (50) reached and the optimization hasn't converged yet.\n  % self.max_iter, ConvergenceWarning)\nE:\\Arquivos de Programas (x86)\\Anaconda\\lib\\site-packages\\sklearn\\neural_network\\multilayer_perceptron.py:566: ConvergenceWarning: Stochastic Optimizer: Maximum iterations (50) reached and the optimization hasn't converged yet.\n  % self.max_iter, ConvergenceWarning)\nE:\\Arquivos de Programas (x86)\\Anaconda\\lib\\site-packages\\sklearn\\neural_network\\multilayer_perceptron.py:566: ConvergenceWarning: Stochastic Optimizer: Maximum iterations (50) reached and the optimization hasn't converged yet.\n  % self.max_iter, ConvergenceWarning)\nE:\\Arquivos de Programas (x86)\\Anaconda\\lib\\site-packages\\sklearn\\neural_network\\multilayer_perceptron.py:566: ConvergenceWarning: Stochastic Optimizer: Maximum iterations (50) reached and the optimization hasn't converged yet.\n  % self.max_iter, ConvergenceWarning)\nE:\\Arquivos de Programas (x86)\\Anaconda\\lib\\site-packages\\sklearn\\neural_network\\multilayer_perceptron.py:566: ConvergenceWarning: Stochastic Optimizer: Maximum iterations (50) reached and the optimization hasn't converged yet.\n  % self.max_iter, ConvergenceWarning)\nE:\\Arquivos de Programas (x86)\\Anaconda\\lib\\site-packages\\sklearn\\neural_network\\multilayer_perceptron.py:566: ConvergenceWarning: Stochastic Optimizer: Maximum iterations (50) reached and the optimization hasn't converged yet.\n  % self.max_iter, ConvergenceWarning)\nE:\\Arquivos de Programas (x86)\\Anaconda\\lib\\site-packages\\sklearn\\neural_network\\multilayer_perceptron.py:566: ConvergenceWarning: Stochastic Optimizer: Maximum iterations (50) reached and the optimization hasn't converged yet.\n  % self.max_iter, ConvergenceWarning)\nE:\\Arquivos de Programas (x86)\\Anaconda\\lib\\site-packages\\sklearn\\neural_network\\multilayer_perceptron.py:566: ConvergenceWarning: Stochastic Optimizer: Maximum iterations (50) reached and the optimization hasn't converged yet.\n  % self.max_iter, ConvergenceWarning)\nE:\\Arquivos de Programas (x86)\\Anaconda\\lib\\site-packages\\sklearn\\neural_network\\multilayer_perceptron.py:566: ConvergenceWarning: Stochastic Optimizer: Maximum iterations (50) reached and the optimization hasn't converged yet.\n  % self.max_iter, ConvergenceWarning)\nE:\\Arquivos de Programas (x86)\\Anaconda\\lib\\site-packages\\sklearn\\neural_network\\multilayer_perceptron.py:566: ConvergenceWarning: Stochastic Optimizer: Maximum iterations (50) reached and the optimization hasn't converged yet.\n  % self.max_iter, ConvergenceWarning)\nE:\\Arquivos de Programas (x86)\\Anaconda\\lib\\site-packages\\sklearn\\neural_network\\multilayer_perceptron.py:566: ConvergenceWarning: Stochastic Optimizer: Maximum iterations (50) reached and the optimization hasn't converged yet.\n  % self.max_iter, ConvergenceWarning)\nE:\\Arquivos de Programas (x86)\\Anaconda\\lib\\site-packages\\sklearn\\neural_network\\multilayer_perceptron.py:566: ConvergenceWarning: Stochastic Optimizer: Maximum iterations (50) reached and the optimization hasn't converged yet.\n  % self.max_iter, ConvergenceWarning)\nE:\\Arquivos de Programas (x86)\\Anaconda\\lib\\site-packages\\sklearn\\neural_network\\multilayer_perceptron.py:566: ConvergenceWarning: Stochastic Optimizer: Maximum iterations (50) reached and the optimization hasn't converged yet.\n  % self.max_iter, ConvergenceWarning)\nE:\\Arquivos de Programas (x86)\\Anaconda\\lib\\site-packages\\sklearn\\neural_network\\multilayer_perceptron.py:566: ConvergenceWarning: Stochastic Optimizer: Maximum iterations (50) reached and the optimization hasn't converged yet.\n  % self.max_iter, ConvergenceWarning)\nE:\\Arquivos de Programas (x86)\\Anaconda\\lib\\site-packages\\sklearn\\neural_network\\multilayer_perceptron.py:566: ConvergenceWarning: Stochastic Optimizer: Maximum iterations (50) reached and the optimization hasn't converged yet.\n  % self.max_iter, ConvergenceWarning)\nE:\\Arquivos de Programas (x86)\\Anaconda\\lib\\site-packages\\sklearn\\neural_network\\multilayer_perceptron.py:566: ConvergenceWarning: Stochastic Optimizer: Maximum iterations (50) reached and the optimization hasn't converged yet.\n  % self.max_iter, ConvergenceWarning)\nE:\\Arquivos de Programas (x86)\\Anaconda\\lib\\site-packages\\sklearn\\neural_network\\multilayer_perceptron.py:566: ConvergenceWarning: Stochastic Optimizer: Maximum iterations (50) reached and the optimization hasn't converged yet.\n  % self.max_iter, ConvergenceWarning)\nE:\\Arquivos de Programas (x86)\\Anaconda\\lib\\site-packages\\sklearn\\neural_network\\multilayer_perceptron.py:566: ConvergenceWarning: Stochastic Optimizer: Maximum iterations (50) reached and the optimization hasn't converged yet.\n  % self.max_iter, ConvergenceWarning)\nE:\\Arquivos de Programas (x86)\\Anaconda\\lib\\site-packages\\sklearn\\neural_network\\multilayer_perceptron.py:566: ConvergenceWarning: Stochastic Optimizer: Maximum iterations (50) reached and the optimization hasn't converged yet.\n  % self.max_iter, ConvergenceWarning)\nE:\\Arquivos de Programas (x86)\\Anaconda\\lib\\site-packages\\sklearn\\neural_network\\multilayer_perceptron.py:566: ConvergenceWarning: Stochastic Optimizer: Maximum iterations (50) reached and the optimization hasn't converged yet.\n  % self.max_iter, ConvergenceWarning)\nE:\\Arquivos de Programas (x86)\\Anaconda\\lib\\site-packages\\sklearn\\neural_network\\multilayer_perceptron.py:566: ConvergenceWarning: Stochastic Optimizer: Maximum iterations (50) reached and the optimization hasn't converged yet.\n  % self.max_iter, ConvergenceWarning)\nE:\\Arquivos de Programas (x86)\\Anaconda\\lib\\site-packages\\sklearn\\neural_network\\multilayer_perceptron.py:566: ConvergenceWarning: Stochastic Optimizer: Maximum iterations (50) reached and the optimization hasn't converged yet.\n  % self.max_iter, ConvergenceWarning)\nE:\\Arquivos de Programas (x86)\\Anaconda\\lib\\site-packages\\sklearn\\neural_network\\multilayer_perceptron.py:566: ConvergenceWarning: Stochastic Optimizer: Maximum iterations (50) reached and the optimization hasn't converged yet.\n  % self.max_iter, ConvergenceWarning)\nE:\\Arquivos de Programas (x86)\\Anaconda\\lib\\site-packages\\sklearn\\neural_network\\multilayer_perceptron.py:566: ConvergenceWarning: Stochastic Optimizer: Maximum iterations (50) reached and the optimization hasn't converged yet.\n  % self.max_iter, ConvergenceWarning)\nE:\\Arquivos de Programas (x86)\\Anaconda\\lib\\site-packages\\sklearn\\neural_network\\multilayer_perceptron.py:566: ConvergenceWarning: Stochastic Optimizer: Maximum iterations (50) reached and the optimization hasn't converged yet.\n  % self.max_iter, ConvergenceWarning)\n"
    }
   ],
   "source": [
    "for i in datasets:\n",
    "    trainDefault(i)\n",
    "    trainPre(i)"
   ]
  },
  {
   "cell_type": "code",
   "execution_count": 6,
   "metadata": {},
   "outputs": [
    {
     "name": "stdout",
     "output_type": "stream",
     "text": "{'a_affirmative': 0.6165413533834586, 'a_conditional': 0.8490566037735849, 'a_doubt_question': 0.8719512195121951, 'a_emphasis': 0.7863247863247863, 'a_negative': 0.49110320284697506, 'a_relative': 0.7650085763293311, 'a_topics': 0.7683741648106904, 'a_wh_question': 0.46273291925465837, 'a_yn_question': 0.7614942528735632, 'b_affirmative': 0.5576208178438662, 'b_conditional': 0.7721021611001965, 'b_doubt_question': 0.7146666666666667, 'b_emphasis': 0.6369047619047619, 'b_negative': 0.6818181818181818, 'b_relative': 0.7142857142857143, 'b_topics': 0.838074398249453, 'b_wh_question': 0.7981927710843374, 'b_yn_question': 0.6183908045977011}\n{'a_affirmative': 0.7255639097744361, 'a_conditional': 0.870020964360587, 'a_doubt_question': 0.8567073170731707, 'a_emphasis': 0.7492877492877493, 'a_negative': 0.7117437722419929, 'a_relative': 0.8593481989708405, 'a_topics': 0.7973273942093542, 'a_wh_question': 0.6801242236024845, 'a_yn_question': 0.8477011494252874, 'b_affirmative': 0.6728624535315985, 'b_conditional': 0.693516699410609, 'b_doubt_question': 0.752, 'b_emphasis': 0.7619047619047619, 'b_negative': 0.7651515151515151, 'b_relative': 0.6911764705882353, 'b_topics': 0.8424507658643327, 'b_wh_question': 0.8644578313253012, 'b_yn_question': 0.7494252873563219}\n{'a_affirmative': 0.6872427983539094, 'a_conditional': 0.7247058823529412, 'a_doubt_question': 0.6345514950166113, 'a_emphasis': 0.7955271565495208, 'a_negative': 0.6472868217054264, 'a_relative': 0.75, 'a_topics': 0.7864077669902912, 'a_wh_question': 0.65, 'a_yn_question': 0.6180124223602484, 'b_affirmative': 0.6776859504132231, 'b_conditional': 0.7011494252873564, 'b_doubt_question': 0.6647727272727273, 'b_emphasis': 0.654485049833887, 'b_negative': 0.6615853658536586, 'b_relative': 0.7897310513447433, 'b_topics': 0.7843601895734598, 'b_wh_question': 0.8027210884353742, 'b_yn_question': 0.7374005305039788}\n{'a_affirmative': 0.7283950617283951, 'a_conditional': 0.7129411764705882, 'a_doubt_question': 0.6976744186046512, 'a_emphasis': 0.8274760383386581, 'a_negative': 0.6434108527131783, 'a_relative': 0.7309160305343512, 'a_topics': 0.7936893203883495, 'a_wh_question': 0.5866666666666667, 'a_yn_question': 0.6459627329192547, 'b_affirmative': 0.6735537190082644, 'b_conditional': 0.7034482758620689, 'b_doubt_question': 0.6676136363636364, 'b_emphasis': 0.6744186046511628, 'b_negative': 0.6615853658536586, 'b_relative': 0.8141809290953546, 'b_topics': 0.7819905213270142, 'b_wh_question': 0.7721088435374149, 'b_yn_question': 0.7559681697612732}\n"
    }
   ],
   "source": [
    "print(accDefaultMLP)\n",
    "print(accDefaultBagging)\n",
    "print(accPreMLP)\n",
    "print(accPreBagging)"
   ]
  },
  {
   "cell_type": "code",
   "execution_count": null,
   "metadata": {},
   "outputs": [],
   "source": []
  }
 ]
}