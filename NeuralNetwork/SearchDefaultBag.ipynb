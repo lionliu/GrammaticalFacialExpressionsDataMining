{
 "nbformat": 4,
 "nbformat_minor": 2,
 "metadata": {
  "language_info": {
   "name": "python",
   "codemirror_mode": {
    "name": "ipython",
    "version": 3
   },
   "version": "3.7.3"
  },
  "orig_nbformat": 2,
  "file_extension": ".py",
  "mimetype": "text/x-python",
  "name": "python",
  "npconvert_exporter": "python",
  "pygments_lexer": "ipython3",
  "version": 3
 },
 "cells": [
  {
   "cell_type": "code",
   "execution_count": 6,
   "metadata": {},
   "outputs": [],
   "source": [
    "import pandas as pd\n",
    "from sklearn.model_selection import train_test_split, cross_val_predict\n",
    "from sklearn.neural_network import MLPClassifier\n",
    "from sklearn.ensemble import BaggingClassifier\n",
    "from sklearn.metrics import roc_auc_score\n",
    "import matplotlib.pyplot as plt\n",
    "from sklearn.utils.validation import column_or_1d\n",
    "from  warnings import simplefilter\n",
    "from sklearn.exceptions import ConvergenceWarning\n",
    "simplefilter(\"ignore\", category=ConvergenceWarning)"
   ]
  },
  {
   "cell_type": "code",
   "execution_count": 7,
   "metadata": {},
   "outputs": [],
   "source": [
    "datasets = [\"a_affirmative\", \"a_conditional\", \"a_doubt_question\", \"a_emphasis\", \"a_negative\", \"a_relative\", \"a_topics\", \"a_wh_question\", \"a_yn_question\",\n",
    "         \"b_affirmative\", \"b_conditional\", \"b_doubt_question\", \"b_emphasis\", \"b_negative\", \"b_relative\", \"b_topics\", \"b_wh_question\", \"b_yn_question\"]\n",
    "\n",
    "params = {\"a_affirmative\"  : {'alpha': 0.01, 'learning_rate_init': 0.001, 'RocAucScore': 0.6707128099173553}\n",
    "\"a_conditional\"  : {'alpha': 0.0001, 'learning_rate_init': 0.001, 'RocAucScore': 0.9008955309287199}\n",
    "\"a_doubt_question\"  : {'alpha': 0.01, 'learning_rate_init': 0.001, 'RocAucScore': 0.8716886548152294}\n",
    "\"a_emphasis\"  : {'alpha': 0.003, 'learning_rate_init': 0.003, 'RocAucScore': 0.6775686154474032}\n",
    "\"a_negative\"  : {'alpha': 0.001, 'learning_rate_init': 0.001, 'RocAucScore': 0.6369907830462201}\n",
    "\"a_relative\"  : {'alpha': 0.001, 'learning_rate_init': 0.003, 'RocAucScore': 0.8694264172552014}\n",
    "\"a_topics\"  : {'alpha': 0.01, 'learning_rate_init': 0.01, 'RocAucScore': 0.7813671076538724}\n",
    "\"a_wh_question\"  : {'alpha': 0.01, 'learning_rate_init': 0.001, 'RocAucScore': 0.7247282608695651}\n",
    "\"a_yn_question\"  : {'alpha': 0.001, 'learning_rate_init': 0.003, 'RocAucScore': 0.8674487082066871}\n",
    "\"b_affirmative\"  : {'alpha': 0.001, 'learning_rate_init': 0.003, 'RocAucScore': 0.6021795665634676}\n",
    "\"b_conditional\"  : {'alpha': 0.0001, 'learning_rate_init': 0.001, 'RocAucScore': 0.6692768397578848}\n",
    "\"b_doubt_question\"  : {'alpha': 0.01, 'learning_rate_init': 0.003, 'RocAucScore': 0.7455791363242859}\n",
    "\"b_emphasis\"  : {'alpha': 0.003, 'learning_rate_init': 0.01, 'RocAucScore': 0.768807541356417}\n",
    "\"b_negative\"  : {'alpha': 0.003, 'learning_rate_init': 0.01, 'RocAucScore': 0.7529255906381099}\n",
    "\"b_relative\"  : {'alpha': 0.001, 'learning_rate_init': 0.01, 'RocAucScore': 0.6786704877173586}\n",
    "\"b_topics\"  : {'alpha': 0.003, 'learning_rate_init': 0.01, 'RocAucScore': 0.8481867131205953}\n",
    "\"b_wh_question\"  : {'alpha': 0.0001, 'learning_rate_init': 0.01, 'RocAucScore': 0.872823148661088}\n",
    "\"b_yn_question\"  : {'alpha': 0.003, 'learning_rate_init': 0.003, 'RocAucScore': 0.719996476650469}}\n",
    "\n",
    "n_estimators = [10, 25, 50, 100]"
   ]
  },
  {
   "cell_type": "code",
   "execution_count": 8,
   "metadata": {},
   "outputs": [
    {
     "name": "stderr",
     "output_type": "stream",
     "text": "E:\\Arquivos de Programas (x86)\\Anaconda\\lib\\site-packages\\ipykernel_launcher.py:8: DataConversionWarning: A column-vector y was passed when a 1d array was expected. Please change the shape of y to (n_samples, ), for example using ravel().\n  \nE:\\Arquivos de Programas (x86)\\Anaconda\\lib\\site-packages\\ipykernel_launcher.py:10: DataConversionWarning: A column-vector y was passed when a 1d array was expected. Please change the shape of y to (n_samples, ), for example using ravel().\n  # Remove the CWD from sys.path while we load stuff.\nE:\\Arquivos de Programas (x86)\\Anaconda\\lib\\site-packages\\ipykernel_launcher.py:8: DataConversionWarning: A column-vector y was passed when a 1d array was expected. Please change the shape of y to (n_samples, ), for example using ravel().\n  \nE:\\Arquivos de Programas (x86)\\Anaconda\\lib\\site-packages\\ipykernel_launcher.py:10: DataConversionWarning: A column-vector y was passed when a 1d array was expected. Please change the shape of y to (n_samples, ), for example using ravel().\n  # Remove the CWD from sys.path while we load stuff.\nE:\\Arquivos de Programas (x86)\\Anaconda\\lib\\site-packages\\ipykernel_launcher.py:8: DataConversionWarning: A column-vector y was passed when a 1d array was expected. Please change the shape of y to (n_samples, ), for example using ravel().\n  \nE:\\Arquivos de Programas (x86)\\Anaconda\\lib\\site-packages\\ipykernel_launcher.py:10: DataConversionWarning: A column-vector y was passed when a 1d array was expected. Please change the shape of y to (n_samples, ), for example using ravel().\n  # Remove the CWD from sys.path while we load stuff.\nE:\\Arquivos de Programas (x86)\\Anaconda\\lib\\site-packages\\ipykernel_launcher.py:8: DataConversionWarning: A column-vector y was passed when a 1d array was expected. Please change the shape of y to (n_samples, ), for example using ravel().\n  \nE:\\Arquivos de Programas (x86)\\Anaconda\\lib\\site-packages\\ipykernel_launcher.py:10: DataConversionWarning: A column-vector y was passed when a 1d array was expected. Please change the shape of y to (n_samples, ), for example using ravel().\n  # Remove the CWD from sys.path while we load stuff.\nE:\\Arquivos de Programas (x86)\\Anaconda\\lib\\site-packages\\ipykernel_launcher.py:8: DataConversionWarning: A column-vector y was passed when a 1d array was expected. Please change the shape of y to (n_samples, ), for example using ravel().\n  \nE:\\Arquivos de Programas (x86)\\Anaconda\\lib\\site-packages\\ipykernel_launcher.py:10: DataConversionWarning: A column-vector y was passed when a 1d array was expected. Please change the shape of y to (n_samples, ), for example using ravel().\n  # Remove the CWD from sys.path while we load stuff.\nE:\\Arquivos de Programas (x86)\\Anaconda\\lib\\site-packages\\ipykernel_launcher.py:8: DataConversionWarning: A column-vector y was passed when a 1d array was expected. Please change the shape of y to (n_samples, ), for example using ravel().\n  \nE:\\Arquivos de Programas (x86)\\Anaconda\\lib\\site-packages\\ipykernel_launcher.py:10: DataConversionWarning: A column-vector y was passed when a 1d array was expected. Please change the shape of y to (n_samples, ), for example using ravel().\n  # Remove the CWD from sys.path while we load stuff.\nE:\\Arquivos de Programas (x86)\\Anaconda\\lib\\site-packages\\ipykernel_launcher.py:8: DataConversionWarning: A column-vector y was passed when a 1d array was expected. Please change the shape of y to (n_samples, ), for example using ravel().\n  \nE:\\Arquivos de Programas (x86)\\Anaconda\\lib\\site-packages\\ipykernel_launcher.py:10: DataConversionWarning: A column-vector y was passed when a 1d array was expected. Please change the shape of y to (n_samples, ), for example using ravel().\n  # Remove the CWD from sys.path while we load stuff.\nE:\\Arquivos de Programas (x86)\\Anaconda\\lib\\site-packages\\ipykernel_launcher.py:8: DataConversionWarning: A column-vector y was passed when a 1d array was expected. Please change the shape of y to (n_samples, ), for example using ravel().\n  \nE:\\Arquivos de Programas (x86)\\Anaconda\\lib\\site-packages\\ipykernel_launcher.py:10: DataConversionWarning: A column-vector y was passed when a 1d array was expected. Please change the shape of y to (n_samples, ), for example using ravel().\n  # Remove the CWD from sys.path while we load stuff.\nE:\\Arquivos de Programas (x86)\\Anaconda\\lib\\site-packages\\ipykernel_launcher.py:8: DataConversionWarning: A column-vector y was passed when a 1d array was expected. Please change the shape of y to (n_samples, ), for example using ravel().\n  \nE:\\Arquivos de Programas (x86)\\Anaconda\\lib\\site-packages\\ipykernel_launcher.py:10: DataConversionWarning: A column-vector y was passed when a 1d array was expected. Please change the shape of y to (n_samples, ), for example using ravel().\n  # Remove the CWD from sys.path while we load stuff.\nE:\\Arquivos de Programas (x86)\\Anaconda\\lib\\site-packages\\ipykernel_launcher.py:8: DataConversionWarning: A column-vector y was passed when a 1d array was expected. Please change the shape of y to (n_samples, ), for example using ravel().\n  \nE:\\Arquivos de Programas (x86)\\Anaconda\\lib\\site-packages\\ipykernel_launcher.py:10: DataConversionWarning: A column-vector y was passed when a 1d array was expected. Please change the shape of y to (n_samples, ), for example using ravel().\n  # Remove the CWD from sys.path while we load stuff.\nE:\\Arquivos de Programas (x86)\\Anaconda\\lib\\site-packages\\ipykernel_launcher.py:8: DataConversionWarning: A column-vector y was passed when a 1d array was expected. Please change the shape of y to (n_samples, ), for example using ravel().\n  \nE:\\Arquivos de Programas (x86)\\Anaconda\\lib\\site-packages\\ipykernel_launcher.py:10: DataConversionWarning: A column-vector y was passed when a 1d array was expected. Please change the shape of y to (n_samples, ), for example using ravel().\n  # Remove the CWD from sys.path while we load stuff.\nE:\\Arquivos de Programas (x86)\\Anaconda\\lib\\site-packages\\ipykernel_launcher.py:8: DataConversionWarning: A column-vector y was passed when a 1d array was expected. Please change the shape of y to (n_samples, ), for example using ravel().\n  \nE:\\Arquivos de Programas (x86)\\Anaconda\\lib\\site-packages\\ipykernel_launcher.py:10: DataConversionWarning: A column-vector y was passed when a 1d array was expected. Please change the shape of y to (n_samples, ), for example using ravel().\n  # Remove the CWD from sys.path while we load stuff.\nE:\\Arquivos de Programas (x86)\\Anaconda\\lib\\site-packages\\ipykernel_launcher.py:8: DataConversionWarning: A column-vector y was passed when a 1d array was expected. Please change the shape of y to (n_samples, ), for example using ravel().\n  \nE:\\Arquivos de Programas (x86)\\Anaconda\\lib\\site-packages\\ipykernel_launcher.py:10: DataConversionWarning: A column-vector y was passed when a 1d array was expected. Please change the shape of y to (n_samples, ), for example using ravel().\n  # Remove the CWD from sys.path while we load stuff.\nE:\\Arquivos de Programas (x86)\\Anaconda\\lib\\site-packages\\ipykernel_launcher.py:8: DataConversionWarning: A column-vector y was passed when a 1d array was expected. Please change the shape of y to (n_samples, ), for example using ravel().\n  \nE:\\Arquivos de Programas (x86)\\Anaconda\\lib\\site-packages\\ipykernel_launcher.py:10: DataConversionWarning: A column-vector y was passed when a 1d array was expected. Please change the shape of y to (n_samples, ), for example using ravel().\n  # Remove the CWD from sys.path while we load stuff.\nE:\\Arquivos de Programas (x86)\\Anaconda\\lib\\site-packages\\ipykernel_launcher.py:8: DataConversionWarning: A column-vector y was passed when a 1d array was expected. Please change the shape of y to (n_samples, ), for example using ravel().\n  \nE:\\Arquivos de Programas (x86)\\Anaconda\\lib\\site-packages\\ipykernel_launcher.py:10: DataConversionWarning: A column-vector y was passed when a 1d array was expected. Please change the shape of y to (n_samples, ), for example using ravel().\n  # Remove the CWD from sys.path while we load stuff.\nE:\\Arquivos de Programas (x86)\\Anaconda\\lib\\site-packages\\ipykernel_launcher.py:8: DataConversionWarning: A column-vector y was passed when a 1d array was expected. Please change the shape of y to (n_samples, ), for example using ravel().\n  \nE:\\Arquivos de Programas (x86)\\Anaconda\\lib\\site-packages\\ipykernel_launcher.py:10: DataConversionWarning: A column-vector y was passed when a 1d array was expected. Please change the shape of y to (n_samples, ), for example using ravel().\n  # Remove the CWD from sys.path while we load stuff.\nE:\\Arquivos de Programas (x86)\\Anaconda\\lib\\site-packages\\ipykernel_launcher.py:8: DataConversionWarning: A column-vector y was passed when a 1d array was expected. Please change the shape of y to (n_samples, ), for example using ravel().\n  \nE:\\Arquivos de Programas (x86)\\Anaconda\\lib\\site-packages\\ipykernel_launcher.py:10: DataConversionWarning: A column-vector y was passed when a 1d array was expected. Please change the shape of y to (n_samples, ), for example using ravel().\n  # Remove the CWD from sys.path while we load stuff.\nE:\\Arquivos de Programas (x86)\\Anaconda\\lib\\site-packages\\ipykernel_launcher.py:8: DataConversionWarning: A column-vector y was passed when a 1d array was expected. Please change the shape of y to (n_samples, ), for example using ravel().\n  \nE:\\Arquivos de Programas (x86)\\Anaconda\\lib\\site-packages\\ipykernel_launcher.py:10: DataConversionWarning: A column-vector y was passed when a 1d array was expected. Please change the shape of y to (n_samples, ), for example using ravel().\n  # Remove the CWD from sys.path while we load stuff.\n"
    }
   ],
   "source": [
    "bestsParams = {}\n",
    "\n",
    "\n",
    "for data in datasets:\n",
    "    X_train = pd.read_csv(\"./SplitData/\" + data + \"_X_train.csv\")\n",
    "    X_test = pd.read_csv(\"./SplitData/\" + data + \"_X_test.csv\")\n",
    "    y_train = pd.read_csv(\"./SplitData/\" + data + \"_y_train.csv\")\n",
    "    y_train = column_or_1d(y_train, warn=True)\n",
    "    y_test = pd.read_csv(\"./SplitData/\" + data + \"_y_test.csv\")\n",
    "    y_test = column_or_1d(y_test, warn=True)\n",
    "    bestRocAucScore = 0\n",
    "    for estimators in n_estimators:\n",
    "        mlp = MLPClassifier(random_state=42, hidden_layer_sizes=(30, 30, 30), max_iter=50, activation=\"relu\", solver=\"adam\", alpha=params[data]['alpha'], learning_rate_init=params[data]['learning_rate_init'])\n",
    "        bag = BaggingClassifier(mlp, n_estimators=estimators)\n",
    "        y_train_proba = cross_val_predict(bag, X_train, y_train, cv=10, method=\"predict_proba\")\n",
    "        y_scores = y_train_proba[:, 1]\n",
    "        score = roc_auc_score(y_train, y_scores)\n",
    "        if(score > bestRocAucScore):\n",
    "            bestsParams[data] = {\n",
    "                \"n_estimators\": estimators,\n",
    "                \"RocAucScore\": score\n",
    "            }\n",
    "            bestRocAucScore = score"
   ]
  },
  {
   "cell_type": "code",
   "execution_count": 9,
   "metadata": {},
   "outputs": [
    {
     "name": "stdout",
     "output_type": "stream",
     "text": "a_affirmative  : {'n_estimators': 50, 'RocAucScore': 0.7386098749735113}\na_conditional  : {'n_estimators': 100, 'RocAucScore': 0.9189205943502394}\na_doubt_question  : {'n_estimators': 25, 'RocAucScore': 0.909683825587906}\na_emphasis  : {'n_estimators': 100, 'RocAucScore': 0.7705387205387205}\na_negative  : {'n_estimators': 100, 'RocAucScore': 0.7380501122505386}\na_relative  : {'n_estimators': 50, 'RocAucScore': 0.8933368327288923}\na_topics  : {'n_estimators': 100, 'RocAucScore': 0.8192390131728366}\na_wh_question  : {'n_estimators': 100, 'RocAucScore': 0.740139751552795}\na_yn_question  : {'n_estimators': 100, 'RocAucScore': 0.8903123416919961}\nb_affirmative  : {'n_estimators': 100, 'RocAucScore': 0.6790712074303406}\nb_conditional  : {'n_estimators': 100, 'RocAucScore': 0.7896272698311565}\nb_doubt_question  : {'n_estimators': 100, 'RocAucScore': 0.8417337169628762}\nb_emphasis  : {'n_estimators': 100, 'RocAucScore': 0.8361434096679667}\nb_negative  : {'n_estimators': 100, 'RocAucScore': 0.8007530116163368}\nb_relative  : {'n_estimators': 100, 'RocAucScore': 0.781150291427851}\nb_topics  : {'n_estimators': 50, 'RocAucScore': 0.8874755381604696}\nb_wh_question  : {'n_estimators': 50, 'RocAucScore': 0.9131217120745743}\nb_yn_question  : {'n_estimators': 100, 'RocAucScore': 0.8029738048749453}\n"
    }
   ],
   "source": [
    "for i in bestsParams:\n",
    "    print(i, \" :\", bestsParams[i])"
   ]
  },
  {
   "cell_type": "code",
   "execution_count": null,
   "metadata": {},
   "outputs": [],
   "source": []
  }
 ]
}