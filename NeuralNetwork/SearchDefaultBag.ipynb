{
 "nbformat": 4,
 "nbformat_minor": 2,
 "metadata": {
  "language_info": {
   "name": "python",
   "codemirror_mode": {
    "name": "ipython",
    "version": 3
   },
   "version": "3.7.3"
  },
  "orig_nbformat": 2,
  "file_extension": ".py",
  "mimetype": "text/x-python",
  "name": "python",
  "npconvert_exporter": "python",
  "pygments_lexer": "ipython3",
  "version": 3
 },
 "cells": [
  {
   "cell_type": "code",
   "execution_count": 1,
   "metadata": {},
   "outputs": [],
   "source": [
    "import pandas as pd\n",
    "from sklearn.model_selection import train_test_split, cross_val_predict\n",
    "from sklearn.neural_network import MLPClassifier\n",
    "from sklearn.ensemble import BaggingClassifier\n",
    "from sklearn.metrics import roc_auc_score\n",
    "import matplotlib.pyplot as plt\n",
    "from sklearn.utils.validation import column_or_1d\n",
    "from  warnings import simplefilter\n",
    "from sklearn.exceptions import ConvergenceWarning\n",
    "simplefilter(\"ignore\", category=ConvergenceWarning)"
   ]
  },
  {
   "cell_type": "code",
   "execution_count": 4,
   "metadata": {},
   "outputs": [],
   "source": [
    "datasets = [\"a_affirmative\", \"a_conditional\", \"a_doubt_question\", \"a_emphasis\", \"a_negative\", \"a_relative\", \"a_topics\", \"a_wh_question\", \"a_yn_question\",\n",
    "         \"b_affirmative\", \"b_conditional\", \"b_doubt_question\", \"b_emphasis\", \"b_negative\", \"b_relative\", \"b_topics\", \"b_wh_question\", \"b_yn_question\"]\n",
    "\n",
    "params = {\"a_affirmative\"  : {'alpha': 0.01, 'learning_rate_init': 0.001, 'RocAucScore': 0.6707128099173553},\n",
    "\"a_conditional\"  : {'alpha': 0.0001, 'learning_rate_init': 0.001, 'RocAucScore': 0.9008955309287199},\n",
    "\"a_doubt_question\"  : {'alpha': 0.01, 'learning_rate_init': 0.001, 'RocAucScore': 0.8716886548152294},\n",
    "\"a_emphasis\"  : {'alpha': 0.003, 'learning_rate_init': 0.003, 'RocAucScore': 0.6775686154474032},\n",
    "\"a_negative\"  : {'alpha': 0.001, 'learning_rate_init': 0.001, 'RocAucScore': 0.6369907830462201},\n",
    "\"a_relative\"  : {'alpha': 0.001, 'learning_rate_init': 0.003, 'RocAucScore': 0.8694264172552014},\n",
    "\"a_topics\"  : {'alpha': 0.01, 'learning_rate_init': 0.01, 'RocAucScore': 0.7813671076538724},\n",
    "\"a_wh_question\"  : {'alpha': 0.01, 'learning_rate_init': 0.001, 'RocAucScore': 0.7247282608695651},\n",
    "\"a_yn_question\"  : {'alpha': 0.001, 'learning_rate_init': 0.003, 'RocAucScore': 0.8674487082066871},\n",
    "\"b_affirmative\"  : {'alpha': 0.001, 'learning_rate_init': 0.003, 'RocAucScore': 0.6021795665634676},\n",
    "\"b_conditional\"  : {'alpha': 0.0001, 'learning_rate_init': 0.001, 'RocAucScore': 0.6692768397578848},\n",
    "\"b_doubt_question\"  : {'alpha': 0.01, 'learning_rate_init': 0.003, 'RocAucScore': 0.7455791363242859},\n",
    "\"b_emphasis\"  : {'alpha': 0.003, 'learning_rate_init': 0.01, 'RocAucScore': 0.768807541356417},\n",
    "\"b_negative\"  : {'alpha': 0.003, 'learning_rate_init': 0.01, 'RocAucScore': 0.7529255906381099},\n",
    "\"b_relative\"  : {'alpha': 0.001, 'learning_rate_init': 0.01, 'RocAucScore': 0.6786704877173586},\n",
    "\"b_topics\"  : {'alpha': 0.003, 'learning_rate_init': 0.01, 'RocAucScore': 0.8481867131205953},\n",
    "\"b_wh_question\"  : {'alpha': 0.0001, 'learning_rate_init': 0.01, 'RocAucScore': 0.872823148661088},\n",
    "\"b_yn_question\"  : {'alpha': 0.003, 'learning_rate_init': 0.003, 'RocAucScore': 0.719996476650469}}\n",
    "\n",
    "n_estimators = [10, 25, 50, 100]"
   ]
  },
  {
   "cell_type": "code",
   "execution_count": 5,
   "metadata": {},
   "outputs": [],
   "source": [
    "bestsParams = {}\n",
    "\n",
    "\n",
    "for data in datasets:\n",
    "    X_train = pd.read_csv(\"./SplitData/\" + data + \"_X_train.csv\")\n",
    "    X_test = pd.read_csv(\"./SplitData/\" + data + \"_X_test.csv\")\n",
    "    y_train = pd.read_csv(\"./SplitData/\" + data + \"_y_train.csv\")\n",
    "    y_train = column_or_1d(y_train, warn=False)\n",
    "    y_test = pd.read_csv(\"./SplitData/\" + data + \"_y_test.csv\")\n",
    "    y_test = column_or_1d(y_test, warn=False)\n",
    "    bestRocAucScore = 0\n",
    "    for estimators in n_estimators:\n",
    "        mlp = MLPClassifier(random_state=42, hidden_layer_sizes=(30, 30, 30), max_iter=50, activation=\"relu\", solver=\"adam\", alpha=params[data]['alpha'], learning_rate_init=params[data]['learning_rate_init'])\n",
    "        bag = BaggingClassifier(mlp, n_estimators=estimators)\n",
    "        y_train_proba = cross_val_predict(bag, X_train, y_train, cv=10, method=\"predict_proba\")\n",
    "        y_scores = y_train_proba[:, 1]\n",
    "        score = roc_auc_score(y_train, y_scores)\n",
    "        if(score > bestRocAucScore):\n",
    "            bestsParams[data] = {\n",
    "                \"n_estimators\": estimators,\n",
    "                \"RocAucScore\": score\n",
    "            }\n",
    "            bestRocAucScore = score"
   ]
  },
  {
   "cell_type": "code",
   "execution_count": 6,
   "metadata": {},
   "outputs": [
    {
     "name": "stdout",
     "output_type": "stream",
     "text": "a_affirmative  : {'n_estimators': 50, 'RocAucScore': 0.7734821996185633}\na_conditional  : {'n_estimators': 50, 'RocAucScore': 0.9472290041390886}\na_doubt_question  : {'n_estimators': 100, 'RocAucScore': 0.9175881858902576}\na_emphasis  : {'n_estimators': 100, 'RocAucScore': 0.7754055708601163}\na_negative  : {'n_estimators': 100, 'RocAucScore': 0.7734795410701595}\na_relative  : {'n_estimators': 100, 'RocAucScore': 0.9048864287077686}\na_topics  : {'n_estimators': 100, 'RocAucScore': 0.8165242448330684}\na_wh_question  : {'n_estimators': 25, 'RocAucScore': 0.7842477570738441}\na_yn_question  : {'n_estimators': 100, 'RocAucScore': 0.8875261208206686}\nb_affirmative  : {'n_estimators': 50, 'RocAucScore': 0.6769040247678019}\nb_conditional  : {'n_estimators': 100, 'RocAucScore': 0.8015249017733885}\nb_doubt_question  : {'n_estimators': 50, 'RocAucScore': 0.831892600702755}\nb_emphasis  : {'n_estimators': 100, 'RocAucScore': 0.8301768371459896}\nb_negative  : {'n_estimators': 100, 'RocAucScore': 0.8055589806528203}\nb_relative  : {'n_estimators': 100, 'RocAucScore': 0.7773559105059497}\nb_topics  : {'n_estimators': 100, 'RocAucScore': 0.8857052362476386}\nb_wh_question  : {'n_estimators': 100, 'RocAucScore': 0.9152792992423453}\nb_yn_question  : {'n_estimators': 100, 'RocAucScore': 0.8144711794901909}\n"
    }
   ],
   "source": [
    "for i in bestsParams:\n",
    "    print(i, \" :\", bestsParams[i])"
   ]
  },
  {
   "cell_type": "code",
   "execution_count": null,
   "metadata": {},
   "outputs": [],
   "source": []
  }
 ]
}