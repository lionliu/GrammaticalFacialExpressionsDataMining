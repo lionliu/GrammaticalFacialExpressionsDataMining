{
 "nbformat": 4,
 "nbformat_minor": 2,
 "metadata": {
  "language_info": {
   "name": "python",
   "codemirror_mode": {
    "name": "ipython",
    "version": 3
   },
   "version": "3.7.3"
  },
  "orig_nbformat": 2,
  "file_extension": ".py",
  "mimetype": "text/x-python",
  "name": "python",
  "npconvert_exporter": "python",
  "pygments_lexer": "ipython3",
  "version": 3
 },
 "cells": [
  {
   "cell_type": "code",
   "execution_count": 7,
   "metadata": {},
   "outputs": [
    {
     "ename": "ImportError",
     "evalue": "cannot import name 'column_or_id' from 'sklearn.utils.validation' (E:\\Arquivos de Programas (x86)\\Anaconda\\lib\\site-packages\\sklearn\\utils\\validation.py)",
     "output_type": "error",
     "traceback": [
      "\u001b[1;31m---------------------------------------------------------------------------\u001b[0m",
      "\u001b[1;31mImportError\u001b[0m                               Traceback (most recent call last)",
      "\u001b[1;32m<ipython-input-7-0159cbd374bf>\u001b[0m in \u001b[0;36m<module>\u001b[1;34m\u001b[0m\n\u001b[0;32m      4\u001b[0m \u001b[1;32mfrom\u001b[0m \u001b[0msklearn\u001b[0m\u001b[1;33m.\u001b[0m\u001b[0mensemble\u001b[0m \u001b[1;32mimport\u001b[0m \u001b[0mBaggingClassifier\u001b[0m\u001b[1;33m\u001b[0m\u001b[1;33m\u001b[0m\u001b[0m\n\u001b[0;32m      5\u001b[0m \u001b[1;32mfrom\u001b[0m \u001b[0msklearn\u001b[0m\u001b[1;33m.\u001b[0m\u001b[0mmetrics\u001b[0m \u001b[1;32mimport\u001b[0m \u001b[0mroc_auc_score\u001b[0m\u001b[1;33m\u001b[0m\u001b[1;33m\u001b[0m\u001b[0m\n\u001b[1;32m----> 6\u001b[1;33m \u001b[1;32mfrom\u001b[0m \u001b[0msklearn\u001b[0m\u001b[1;33m.\u001b[0m\u001b[0mutils\u001b[0m\u001b[1;33m.\u001b[0m\u001b[0mvalidation\u001b[0m \u001b[1;32mimport\u001b[0m \u001b[0mcolumn_or_id\u001b[0m\u001b[1;33m\u001b[0m\u001b[1;33m\u001b[0m\u001b[0m\n\u001b[0m\u001b[0;32m      7\u001b[0m \u001b[1;32mimport\u001b[0m \u001b[0mmatplotlib\u001b[0m\u001b[1;33m.\u001b[0m\u001b[0mpyplot\u001b[0m \u001b[1;32mas\u001b[0m \u001b[0mplt\u001b[0m\u001b[1;33m\u001b[0m\u001b[1;33m\u001b[0m\u001b[0m\n",
      "\u001b[1;31mImportError\u001b[0m: cannot import name 'column_or_id' from 'sklearn.utils.validation' (E:\\Arquivos de Programas (x86)\\Anaconda\\lib\\site-packages\\sklearn\\utils\\validation.py)"
     ]
    }
   ],
   "source": [
    "import pandas as pd\n",
    "from sklearn.model_selection import train_test_split, cross_val_predict\n",
    "from sklearn.neural_network import MLPClassifier\n",
    "from sklearn.ensemble import BaggingClassifier\n",
    "from sklearn.metrics import roc_auc_score\n",
    "from sklearn.utils.validation import column_or_1d\n",
    "import matplotlib.pyplot as plt"
   ]
  },
  {
   "cell_type": "code",
   "execution_count": 2,
   "metadata": {},
   "outputs": [],
   "source": [
    "datasets = [\"a_affirmative\", \"a_conditional\", \"a_doubt_question\", \"a_emphasis\", \"a_negative\", \"a_relative\", \"a_topics\", \"a_wh_question\", \"a_yn_question\",\n",
    "         \"b_affirmative\", \"b_conditional\", \"b_doubt_question\", \"b_emphasis\", \"b_negative\", \"b_relative\", \"b_topics\", \"b_wh_question\", \"b_yn_question\"]\n",
    "\n",
    "alphas = {\"a_affirmative\": 0.0001, \"a_conditional\": 0.0001, \"a_doubt_question\": 0.0001, \"a_emphasis\": 0.0001, \"a_negative\": 0.0003, \"a_relative\": 0.001, \"a_topics\": 0.0001, \"a_wh_question\": 0.0003, \"a_yn_question\": 0.0001,\n",
    "         \"b_affirmative\": 0.0001, \"b_conditional\": 0.0003, \"b_doubt_question\": 0.001, \"b_emphasis\": 0.01, \"b_negative\": 0.0003, \"b_relative\": 0.0001, \"b_topics\": 0.0001, \"b_wh_question\": 0.003, \"b_yn_question\": 0.0001}\n",
    "\n",
    "lr = {\"a_affirmative\": 0.001, \"a_conditional\": 0.003, \"a_doubt_question\": 0.003, \"a_emphasis\": 0.003, \"a_negative\": 0.003, \"a_relative\": 0.003, \"a_topics\": 0.003, \"a_wh_question\": 0.003, \"a_yn_question\": 0.001,\n",
    "         \"b_affirmative\": 0.01, \"b_conditional\": 0.003, \"b_doubt_question\": 0.003, \"b_emphasis\": 0.003, \"b_negative\": 0.001, \"b_relative\": 0.003, \"b_topics\": 0.003, \"b_wh_question\": 0.003, \"b_yn_question\": 0.003}\n",
    "\n",
    "estimators = {\"a_affirmative\": 100, \"a_conditional\": 25, \"a_doubt_question\": 50, \"a_emphasis\": 100, \"a_negative\": 100, \"a_relative\": 50, \"a_topics\": 50, \"a_wh_question\": 50, \"a_yn_question\": 50,\n",
    "         \"b_affirmative\": 10, \"b_conditional\": 50, \"b_doubt_question\": 25, \"b_emphasis\": 100, \"b_negative\": 50, \"b_relative\": 50, \"b_topics\": 10, \"b_wh_question\": 100, \"b_yn_question\": 100}\n"
   ]
  },
  {
   "cell_type": "code",
   "execution_count": 8,
   "metadata": {},
   "outputs": [
    {
     "ename": "NameError",
     "evalue": "name 'column_or_1d' is not defined",
     "output_type": "error",
     "traceback": [
      "\u001b[1;31m---------------------------------------------------------------------------\u001b[0m",
      "\u001b[1;31mNameError\u001b[0m                                 Traceback (most recent call last)",
      "\u001b[1;32m<ipython-input-8-78c1f901b068>\u001b[0m in \u001b[0;36m<module>\u001b[1;34m\u001b[0m\n\u001b[0;32m      5\u001b[0m     \u001b[0mX\u001b[0m \u001b[1;33m=\u001b[0m \u001b[0mpd\u001b[0m\u001b[1;33m.\u001b[0m\u001b[0mread_csv\u001b[0m\u001b[1;33m(\u001b[0m\u001b[1;34m\"./dataset/\"\u001b[0m \u001b[1;33m+\u001b[0m \u001b[0mname\u001b[0m \u001b[1;33m+\u001b[0m\u001b[1;34m\"_datapoints.csv\"\u001b[0m\u001b[1;33m,\u001b[0m \u001b[0msep\u001b[0m\u001b[1;33m=\u001b[0m\u001b[1;34m' '\u001b[0m\u001b[1;33m)\u001b[0m\u001b[1;33m\u001b[0m\u001b[1;33m\u001b[0m\u001b[0m\n\u001b[0;32m      6\u001b[0m     \u001b[0my\u001b[0m \u001b[1;33m=\u001b[0m \u001b[0mpd\u001b[0m\u001b[1;33m.\u001b[0m\u001b[0mread_csv\u001b[0m\u001b[1;33m(\u001b[0m\u001b[1;34m\"./dataset/\"\u001b[0m\u001b[1;33m+\u001b[0m \u001b[0mname\u001b[0m \u001b[1;33m+\u001b[0m \u001b[1;34m\"_targets.csv\"\u001b[0m\u001b[1;33m)\u001b[0m\u001b[1;33m\u001b[0m\u001b[1;33m\u001b[0m\u001b[0m\n\u001b[1;32m----> 7\u001b[1;33m     \u001b[0my\u001b[0m \u001b[1;33m=\u001b[0m \u001b[0mcolumn_or_1d\u001b[0m\u001b[1;33m(\u001b[0m\u001b[0my\u001b[0m\u001b[1;33m,\u001b[0m \u001b[0mwarn\u001b[0m\u001b[1;33m=\u001b[0m\u001b[1;32mTrue\u001b[0m\u001b[1;33m)\u001b[0m\u001b[1;33m\u001b[0m\u001b[1;33m\u001b[0m\u001b[0m\n\u001b[0m\u001b[0;32m      8\u001b[0m     \u001b[0mX\u001b[0m\u001b[1;33m.\u001b[0m\u001b[0mdrop\u001b[0m\u001b[1;33m(\u001b[0m\u001b[1;33m[\u001b[0m\u001b[0mX\u001b[0m\u001b[1;33m.\u001b[0m\u001b[0mcolumns\u001b[0m\u001b[1;33m[\u001b[0m\u001b[1;36m0\u001b[0m\u001b[1;33m]\u001b[0m\u001b[1;33m]\u001b[0m\u001b[1;33m,\u001b[0m \u001b[0maxis\u001b[0m\u001b[1;33m=\u001b[0m\u001b[1;36m1\u001b[0m\u001b[1;33m,\u001b[0m \u001b[0minplace\u001b[0m\u001b[1;33m=\u001b[0m\u001b[1;32mTrue\u001b[0m\u001b[1;33m)\u001b[0m\u001b[1;33m\u001b[0m\u001b[1;33m\u001b[0m\u001b[0m\n\u001b[0;32m      9\u001b[0m     X_train, X_test, y_train, y_test = train_test_split(\n",
      "\u001b[1;31mNameError\u001b[0m: name 'column_or_1d' is not defined"
     ]
    }
   ],
   "source": [
    "MLPScores = {}\n",
    "BaggingScores = {}\n",
    "\n",
    "for name in datasets:\n",
    "    X = pd.read_csv(\"./dataset/\" + name +\"_datapoints.csv\", sep=' ')\n",
    "    y = pd.read_csv(\"./dataset/\"+ name + \"_targets.csv\")\n",
    "    y = column_or_1d(y, warn=True)\n",
    "    X.drop([X.columns[0]], axis=1, inplace=True)\n",
    "    X_train, X_test, y_train, y_test = train_test_split(\n",
    "        X, y, random_state=42, test_size=0.3)\n",
    "    \n",
    "    mlp = MLPClassifier(random_state=42, hidden_layer_sizes=(250, 250, 250), max_iter=50, activation=\"relu\", solver=\"adam\", alpha=alphas[name], learning_rate_init=lr[name])\n",
    "    y_train_proba_mlp = cross_val_predict(mlp, X_train, y_train, cv=10, method=\"predict_proba\")\n",
    "    y_scores_mlp = y_train_proba_mlp[:, 1]\n",
    "    MLPScores[name] = roc_auc_score(y_train, y_scores_mlp)\n",
    "\n",
    "    bag = BaggingClassifier(mlp, n_estimators=estimators[name])\n",
    "    y_train_proba_bag = cross_val_predict(bag, X_train, y_train, cv=10, method=\"predict_proba\")\n",
    "    y_scores_bag = y_train_proba_bag[:, 1]\n",
    "    BaggingScores[name] = roc_auc_score(y_train, y_scores_bag)\n"
   ]
  },
  {
   "cell_type": "code",
   "execution_count": 4,
   "metadata": {},
   "outputs": [
    {
     "name": "stdout",
     "output_type": "stream",
     "text": "{}\n{}\n"
    }
   ],
   "source": [
    "print(MLPScores)\n",
    "print(BaggingScores)"
   ]
  },
  {
   "cell_type": "code",
   "execution_count": null,
   "metadata": {},
   "outputs": [],
   "source": []
  }
 ]
}